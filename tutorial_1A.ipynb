{
 "cells": [
  {
   "cell_type": "markdown",
   "id": "255c348a",
   "metadata": {
    "id": "255c348a"
   },
   "source": [
    "# Cognitive Modelling - Tutorial 1 - Part 1\n",
    "Anne Urai, 2024\n",
    "Thanks to Alexandre Hyafil, BAMB 2024"
   ]
  },
  {
   "cell_type": "markdown",
   "id": "1ea8e4da",
   "metadata": {
    "id": "1ea8e4da"
   },
   "source": [
    "# Introduction\n",
    "\n",
    "<font color='blue'>\n",
    "In this tutorial, we will cover all the steps involved in modelling behavioral data, from formalizing your hypotheses into a computational model to comparing which model is best supported by the data, using a toy example from a sensory discrimination task. The idea is to map all the types of analyses we may want to perform on behavioral data, before we address in the following days how to perform these analyses for more complex models. More specifically we will cover\n",
    "\n",
    "- **Model definition**: from box diagram to a statistical description\n",
    "- **Model simulation**: to understand how the model behaves\n",
    "- **Model estimation**: fitting model parameters to a behavioral dataset, and assessing the uncertainty about these parameter estimates\n",
    "- **Model validation**: checking whether a fitted model reproduces the key qualitative features of the dataset\n",
    "- **Model comparison**: comparing which model better accounts for experimental data\n",
    "- **Model and parameter recovery**: estimating how well we can estimate model parameters or discriminate between models using a particular behavioral paradigm\n",
    "\n",
    "In this first part of the tutorial, we will cover model definition, simulation and estimation.\n",
    "\n",
    "Our behavioral dataset corresponds to a standard two-alternative forced-choice task, where on each trial subjects have to report on the direction of motion of a stimulus with a binary response (left or right). The stimulus strength (or stimulus evidence) is varied across trial. Crucially, in a random subset of trials, brain area X is deactivated (through optogenetics/TMS), leading to a decrease in task performance. Our data is thus composed of one dependent variable (choice $r$, binary, say L/R) and two dependent variables:\n",
    "- stimulus evidence $s$ (signed, distributed between 9 values)\n",
    "- condition $c$ (binary, 'default' or 'manipulation')\n",
    "\n",
    "Here's the question we want to address with our modelling exercice: **is the deactivation affecting stimulus processing or purely decision-making abilities?** In the latter case, deactivating brain area X would not cause any change in stimulus processing, but would promote random responses unrelated to the sensory percept (i.e. 'lapses') in a subset of trials.</font>"
   ]
  },
  {
   "cell_type": "markdown",
   "id": "3f8d9564",
   "metadata": {
    "id": "3f8d9564"
   },
   "source": [
    "## Summary statistics: the psychometric curve\n",
    "Before starting to define our models, we need to specify what characteristics of the experimental data we expect them to capture. This often corresponds to summary statistics, i.e. the average value of the behavioral variable in different sets of trials (different experimental conditions). In the case of sensory tasks with binary choices, we usually extract the **psychometric curve**, corresponding to the proportion of rightward choices as a function of stimulus evidence. We plot the psychometric curve below, separately for control trials and deactivation trials. This change of the relationship between stimulus and choice is precisely what we expect our model to capture."
   ]
  },
  {
   "cell_type": "code",
   "id": "bdfc5c8a",
   "metadata": {
    "id": "bdfc5c8a",
    "ExecuteTime": {
     "end_time": "2024-09-20T15:49:54.241639Z",
     "start_time": "2024-09-20T15:49:54.236481Z"
    }
   },
   "source": [
    "# first, import relevant packages\n",
    "import numpy as np\n",
    "import pandas as pd\n",
    "import matplotlib.pyplot as plt\n",
    "from scipy.stats import norm\n",
    "import scipy.optimize as optimize\n",
    "import ipywidgets as widgets       # interactive display"
   ],
   "outputs": [],
   "execution_count": 21
  },
  {
   "metadata": {},
   "cell_type": "code",
   "outputs": [],
   "execution_count": null,
   "source": [
    "import numpy as np\n",
    "import pandas as pd\n",
    "import matplotlib.pyplot as plt\n",
    "from scipy.stats import norm\n",
    "import scipy.optimize as optimize\n",
    "import ipywidgets as widgets       # interactive display\n",
    "import random"
   ],
   "id": "cd33d2c5d8cb58a"
  },
  {
   "metadata": {},
   "cell_type": "code",
   "outputs": [],
   "execution_count": null,
   "source": [
    "# set a fixed seed for reproducibility\n",
    "seed = 42\n",
    "np.random.seed(seed)\n",
    "random.seed(seed)"
   ],
   "id": "e7107ebdb4210733"
  },
  {
   "cell_type": "code",
   "id": "e76edaa0",
   "metadata": {
    "colab": {
     "base_uri": "https://localhost:8080/",
     "height": 206
    },
    "id": "e76edaa0",
    "outputId": "11278034-1e7f-4cb6-cc96-7ce37b33ea7f",
    "ExecuteTime": {
     "end_time": "2024-09-20T15:49:54.553811Z",
     "start_time": "2024-09-20T15:49:54.310428Z"
    }
   },
   "source": [
    "# load the data\n",
    "df_exp = pd.read_csv(\"https://raw.githubusercontent.com/bambschool/BAMB2023/main/1-modeling_101/dataset_tutorial1.csv?token=GHSAT0AAAAAACFH2I2TUEKMMHZMREHILHOUZFXCWCA\")\n",
    "#df_exp = pd.read_csv(\"dataset_tutorial1.csv\")\n",
    "df_exp.head()"
   ],
   "outputs": [
    {
     "data": {
      "text/plain": [
       "   Unnamed: 0  stimulus     condition  response\n",
       "0           0       0.0  manipulation         0\n",
       "1           1      -2.0  manipulation         0\n",
       "2           2       3.0       control         1\n",
       "3           3       2.0       control         1\n",
       "4           4       1.0       control         1"
      ],
      "text/html": [
       "<div>\n",
       "<style scoped>\n",
       "    .dataframe tbody tr th:only-of-type {\n",
       "        vertical-align: middle;\n",
       "    }\n",
       "\n",
       "    .dataframe tbody tr th {\n",
       "        vertical-align: top;\n",
       "    }\n",
       "\n",
       "    .dataframe thead th {\n",
       "        text-align: right;\n",
       "    }\n",
       "</style>\n",
       "<table border=\"1\" class=\"dataframe\">\n",
       "  <thead>\n",
       "    <tr style=\"text-align: right;\">\n",
       "      <th></th>\n",
       "      <th>Unnamed: 0</th>\n",
       "      <th>stimulus</th>\n",
       "      <th>condition</th>\n",
       "      <th>response</th>\n",
       "    </tr>\n",
       "  </thead>\n",
       "  <tbody>\n",
       "    <tr>\n",
       "      <th>0</th>\n",
       "      <td>0</td>\n",
       "      <td>0.0</td>\n",
       "      <td>manipulation</td>\n",
       "      <td>0</td>\n",
       "    </tr>\n",
       "    <tr>\n",
       "      <th>1</th>\n",
       "      <td>1</td>\n",
       "      <td>-2.0</td>\n",
       "      <td>manipulation</td>\n",
       "      <td>0</td>\n",
       "    </tr>\n",
       "    <tr>\n",
       "      <th>2</th>\n",
       "      <td>2</td>\n",
       "      <td>3.0</td>\n",
       "      <td>control</td>\n",
       "      <td>1</td>\n",
       "    </tr>\n",
       "    <tr>\n",
       "      <th>3</th>\n",
       "      <td>3</td>\n",
       "      <td>2.0</td>\n",
       "      <td>control</td>\n",
       "      <td>1</td>\n",
       "    </tr>\n",
       "    <tr>\n",
       "      <th>4</th>\n",
       "      <td>4</td>\n",
       "      <td>1.0</td>\n",
       "      <td>control</td>\n",
       "      <td>1</td>\n",
       "    </tr>\n",
       "  </tbody>\n",
       "</table>\n",
       "</div>"
      ]
     },
     "execution_count": 22,
     "metadata": {},
     "output_type": "execute_result"
    }
   ],
   "execution_count": 22
  },
  {
   "cell_type": "code",
   "id": "378a5bf3",
   "metadata": {
    "colab": {
     "base_uri": "https://localhost:8080/",
     "height": 449
    },
    "id": "378a5bf3",
    "outputId": "549287c7-5f76-4c30-cbc1-7d2e1a8d97d3",
    "ExecuteTime": {
     "end_time": "2024-09-20T15:49:54.730238Z",
     "start_time": "2024-09-20T15:49:54.601093Z"
    }
   },
   "source": [
    "#define function to plot psychometric curve for dataset separately for control trials and deactivation trials\n",
    "def plot_data_psychometric(df):\n",
    "    \"\"\"\n",
    "    Plots the psychometric function separately for control and deactivation trials.\n",
    "    Args:\n",
    "       df (dataframe): dataset.\n",
    "    \"\"\"\n",
    "    # plot psychometric curve for control trials\n",
    "    mask = df.condition=='control' # select control trials\n",
    "    df[mask].groupby('stimulus').response.agg(('mean','sem')).plot(yerr='sem', fmt = 'bo', ax=plt.gca(), legend=False);\n",
    "\n",
    "    # plot psychometric curve for manipulation trials\n",
    "    mask = df.condition=='manipulation' # select manipulation trials\n",
    "    df[mask].groupby('stimulus').response.agg(('mean','sem')).plot(yerr='sem', fmt = 'ro', ax=plt.gca(), legend=False);\n",
    "\n",
    "    plt.legend(('control','deactivation'));\n",
    "    plt.xlabel('stimulus evidence');\n",
    "    plt.ylabel('p(rightward)');\n",
    "\n",
    "# apply the function on the experimental dataframe\n",
    "plot_data_psychometric(df_exp)"
   ],
   "outputs": [
    {
     "data": {
      "text/plain": [
       "<Figure size 640x480 with 1 Axes>"
      ],
      "image/png": "[encoded data removed]"
     },
     "metadata": {},
     "output_type": "display_data"
    }
   ],
   "execution_count": 23
  },
  {
   "cell_type": "markdown",
   "id": "4617d2b2",
   "metadata": {
    "id": "4617d2b2"
   },
   "source": [
    "# PART I\n",
    "\n",
    "In this first part of the tutorial, we will cover **three modelling steps: model definition, model simulations and model estimation**.\n",
    "\n",
    "# 1. Model definition\n",
    "<font color='blue'>\n",
    "We want to define two models, where each model embodies one of the two hypotheses:\n",
    "- **model A**: the manipulation affects stimulus processing\n",
    "- **model B**: the manipulation leads to a certain proportion of lapses\n",
    "\n",
    "Both of these models should take the stimulus evidence and experimental condition (*manipulation* vs. *control*) as input and output the binary choice.\n",
    "We will follow two successive steps in order to derive a complete statistical description for each of these models.\n",
    "\n",
    "\n",
    "## 1.1 Box diagram description\n",
    "\n",
    "First, for each of the two models, draw a box diagram describing how responses are produced and how the experimental manipulation interferes with this production, according to that model. Each diagram should feature boxes describing the causal interaction between the dependent and independent variables (the *observed variables*), and possibly other non-measured variables (the *unobserved variables* or *latent variables*). (Following conventions for Probabilistic Graphical Models, we can colour the observed variable in grey, and leave boxes for latent variables in white).\n",
    "</font>"
   ]
  },
  {
   "cell_type": "markdown",
   "id": "137e5648",
   "metadata": {
    "id": "137e5648"
   },
   "source": "![ModelA_ModelB.jpg](attachment:ModelA_ModelB.jpg)"
  },
  {
   "cell_type": "markdown",
   "id": "62ab5f3e",
   "metadata": {
    "id": "62ab5f3e"
   },
   "source": [
    "What other variables could we introduce?"
   ]
  },
  {
   "cell_type": "markdown",
   "id": "678ee2bd",
   "metadata": {
    "id": "678ee2bd"
   },
   "source": [
    "Student response: We could intruduce 'time elapse' between the response and the stimulus to observe how fast subjects gave their choice after the stimulus has been presented."
   ]
  },
  {
   "cell_type": "markdown",
   "id": "a42c4868",
   "metadata": {
    "id": "a42c4868"
   },
   "source": [
    "## 1.2 Statistical model: signal detection theory\n",
    "\n",
    "Now, in order to be fitted to actual data, we need a **statistical model of behavior**, whereby the modelled behavior (here binary choices) is a stochastic variable that depends on our dependent variables. Here, because the output is binary, each statistical model is described by an equation linking the probability for the binary response (say rightwards responses) as a function of the dependent variables (stimulus and manupulation). To do so, we need to formalize each model one step further by expliciting in our box diagram how each variable in a box is computed from the value of the other variables (through a deterministic or probabilistic relationship to the variables that influence it).\n",
    "\n",
    "We will use signal-detection theory (SDT) to turn each diagram into a statistical description. In SDT, the perceived stimulus evidence (or percept) is simply the value of the true stimulus evidence (set by the experimenter) corrupted by some gaussian noise:\n",
    "$\\hat s = s + \\epsilon$ where $\\epsilon$ is gaussian noise of variance $\\sigma^2$.\n",
    "The decision is taken from the position of $\\hat s$ w.r.t a threshold $T$. As the noise variance goes larger, the psychometric curve gets shallower and the accuracy of the model deteriorates.\n",
    "\n",
    "In model A, we assume different noise levels in the two conditions ($\\sigma^2_d$ and $\\sigma^2_m$), corresponding to different precisions of sensory encoding.\n",
    "In model B, we assume that the noise variance is not affected by the manipulation. However, in deactivation trials, with a probability $\\lambda$, the decision is not based on the stimulus but randomly drawn (with probability $q$ giving response R, probability $1-q$ giving response L).\n",
    "\n",
    "We now see the **parameter set $\\theta$** for each model:\n",
    "- $T$, $\\sigma^2_d$ and $\\sigma^2_m$ in model A\n",
    "- $T$, $\\sigma^2_d$, $\\lambda$ and $q$ in model B\n",
    "\n",
    "To simplify things, we will assume no particular bias between L and R responses, so $T=0$ and $q=0.5$. Note that in this case both models have only two free parameters, there are thus equated in terms of complexity.\n",
    "\n",
    "We will focus on model B for the sake of time. Adapting the analyses for model A is left as optional."
   ]
  },
  {
   "cell_type": "markdown",
   "id": "960fa56c",
   "metadata": {
    "id": "960fa56c"
   },
   "source": [
    "# PART I - 2. Model simulations\n",
    "\n",
    "## 2.1 Simulate\n",
    "\n",
    "Create a function that simulates models B. The function should take a list of stimulus and experimental conditions as input, and use the stochastic equations defined above to determine a simulated choice for each corresponding trial."
   ]
  },
  {
   "cell_type": "code",
   "id": "22d1d40d",
   "metadata": {
    "id": "22d1d40d",
    "ExecuteTime": {
     "end_time": "2024-09-20T15:49:54.851550Z",
     "start_time": "2024-09-20T15:49:54.847615Z"
    }
   },
   "source": [
    "# Define a function that simulates model B\n",
    "def simulate_modelB(s, c, sigma_d=1, Lambda=0.2, T=0, q=0.5):\n",
    "    \"\"\"\n",
    "    Simulates model B (proportion of lapses provoked by deactivation).\n",
    "    Args:\n",
    "        s (list): sensory evidence, for each trial\n",
    "        c (list): experimental condition, for each trial\n",
    "        sigma_d (scalar): variance of the sensory noise\n",
    "        Lambda (scalar): probability of lapse trial\n",
    "        T (scalar): threshold\n",
    "        q (scalar): probability of rightward choice for a lapse trial\n",
    "    Returns\n",
    "        list: binary choice, for each trial\n",
    "    \"\"\"\n",
    "    n = len(s) # number of trials\n",
    "\n",
    "    # noisy stimulus (or percept), i.e. true stimulus evidence contaminated by noise\n",
    "    s_hat = s + np.random.normal(0, sigma_d, n)\n",
    "\n",
    "    # binary response based on stimulus (1 if noisy stimulus is above threshold, 0 otherwise)\n",
    "    r_stim = (s_hat > T)*1 # Times 1 will cast from True and False to 1 and 0\n",
    "\n",
    "    # generate boolean array (True if lapse; only in Manipulation trials)\n",
    "    isLapse = np.where(c == 'manipulation', np.random.uniform(0, 1, n) < Lambda, False)\n",
    "\n",
    "    # lapse responses (if lapse trial)\n",
    "    r_lapse = np.random.choice(a=[0, 1], p=[q, 1 - q], size=n)\n",
    "\n",
    "    # final binary response (lapse response if lapse trial, sensory-based response otherwise)\n",
    "    r = np.where(isLapse, r_lapse, r_stim)\n",
    "    return r"
   ],
   "outputs": [],
   "execution_count": 24
  },
  {
   "cell_type": "markdown",
   "id": "a9796dd7",
   "metadata": {
    "id": "a9796dd7"
   },
   "source": [
    "Use the function above to simulate model B (with model parameters defined below) on the same set of the trials as the experimental dataset.\n",
    "(Note: it is important to compare simulations with the exact same set of trials as the original dataset to facilitate comparison)"
   ]
  },
  {
   "cell_type": "code",
   "id": "fcecd5a2",
   "metadata": {
    "colab": {
     "base_uri": "https://localhost:8080/",
     "height": 206
    },
    "id": "fcecd5a2",
    "outputId": "d6f57fbd-847c-47d9-d96f-b7aa73daacbe",
    "ExecuteTime": {
     "end_time": "2024-09-20T15:49:54.906404Z",
     "start_time": "2024-09-20T15:49:54.898257Z"
    }
   },
   "source": [
    "# parameters of model B\n",
    "T = 0 #decision threshold\n",
    "sigma = 1 # decision noise\n",
    "Lambda = .2 # proportion of lapses\n",
    "q = 0.5 # probability of rightward response if lapse\n",
    "\n",
    "#use generate experimental conditions from actual dataset\n",
    "c = df_exp[\"condition\"].tolist() # condition\n",
    "s = df_exp[\"stimulus\"].tolist() #stimulus evidence\n",
    "\n",
    "#simulate model\n",
    "r = simulate_modelB(s, c, sigma_d=sigma, Lambda=Lambda, T=T, q=q)\n",
    "\n",
    "# create dataframe for simulated data\n",
    "df_modelB = pd.DataFrame({'stimulus': s, 'condition':c, 'response':r})\n",
    "df_modelB.head()"
   ],
   "outputs": [
    {
     "data": {
      "text/plain": [
       "   stimulus     condition  response\n",
       "0       0.0  manipulation         1\n",
       "1      -2.0  manipulation         0\n",
       "2       3.0       control         1\n",
       "3       2.0       control         1\n",
       "4       1.0       control         1"
      ],
      "text/html": [
       "<div>\n",
       "<style scoped>\n",
       "    .dataframe tbody tr th:only-of-type {\n",
       "        vertical-align: middle;\n",
       "    }\n",
       "\n",
       "    .dataframe tbody tr th {\n",
       "        vertical-align: top;\n",
       "    }\n",
       "\n",
       "    .dataframe thead th {\n",
       "        text-align: right;\n",
       "    }\n",
       "</style>\n",
       "<table border=\"1\" class=\"dataframe\">\n",
       "  <thead>\n",
       "    <tr style=\"text-align: right;\">\n",
       "      <th></th>\n",
       "      <th>stimulus</th>\n",
       "      <th>condition</th>\n",
       "      <th>response</th>\n",
       "    </tr>\n",
       "  </thead>\n",
       "  <tbody>\n",
       "    <tr>\n",
       "      <th>0</th>\n",
       "      <td>0.0</td>\n",
       "      <td>manipulation</td>\n",
       "      <td>1</td>\n",
       "    </tr>\n",
       "    <tr>\n",
       "      <th>1</th>\n",
       "      <td>-2.0</td>\n",
       "      <td>manipulation</td>\n",
       "      <td>0</td>\n",
       "    </tr>\n",
       "    <tr>\n",
       "      <th>2</th>\n",
       "      <td>3.0</td>\n",
       "      <td>control</td>\n",
       "      <td>1</td>\n",
       "    </tr>\n",
       "    <tr>\n",
       "      <th>3</th>\n",
       "      <td>2.0</td>\n",
       "      <td>control</td>\n",
       "      <td>1</td>\n",
       "    </tr>\n",
       "    <tr>\n",
       "      <th>4</th>\n",
       "      <td>1.0</td>\n",
       "      <td>control</td>\n",
       "      <td>1</td>\n",
       "    </tr>\n",
       "  </tbody>\n",
       "</table>\n",
       "</div>"
      ]
     },
     "execution_count": 25,
     "metadata": {},
     "output_type": "execute_result"
    }
   ],
   "execution_count": 25
  },
  {
   "cell_type": "markdown",
   "id": "ec93a32d",
   "metadata": {
    "id": "ec93a32d"
   },
   "source": [
    "## 2.2 Simulated psychometric curve\n",
    "Now plot the psychometric curve, separately for each condition, for the data simulated from model B."
   ]
  },
  {
   "cell_type": "code",
   "id": "6ec62665",
   "metadata": {
    "colab": {
     "base_uri": "https://localhost:8080/",
     "height": 472
    },
    "id": "6ec62665",
    "outputId": "578d9332-d4b0-4bd1-e919-2275c4d4987a",
    "ExecuteTime": {
     "end_time": "2024-09-20T15:49:55.136537Z",
     "start_time": "2024-09-20T15:49:54.996575Z"
    }
   },
   "source": [
    "plt.title('model B simulations');\n",
    "plot_data_psychometric(df_modelB)"
   ],
   "outputs": [
    {
     "data": {
      "text/plain": [
       "<Figure size 640x480 with 1 Axes>"
      ],
      "image/png": "[encoded data removed]"
     },
     "metadata": {},
     "output_type": "display_data"
    }
   ],
   "execution_count": 26
  },
  {
   "cell_type": "markdown",
   "id": "2623624f",
   "metadata": {
    "id": "2623624f"
   },
   "source": [
    "(Optional) Repeat the same for model A: define simulation function, use it to simulate data on the set of trials as for the experimental dataset, and plot the corresponding psychometric curves (separately for deactivation and control trials)."
   ]
  },
  {
   "cell_type": "code",
   "id": "be377816",
   "metadata": {
    "id": "be377816",
    "ExecuteTime": {
     "end_time": "2024-09-20T15:49:55.193876Z",
     "start_time": "2024-09-20T15:49:55.189536Z"
    }
   },
   "source": [
    "# Define a function that simulates model A\n",
    "def simulate_modelA(s, c, sigma_d=1, sigma_m=1.5, T=0):\n",
    "    \"\"\"\n",
    "    Simulates model A (change in sensory noise with deactivation).\n",
    "    Args:\n",
    "        s (list): sensory evidence, for each trial\n",
    "        c (list): experimental condition, for each trial\n",
    "        sigma_d (scalar): variance of the sensory noise in control trials\n",
    "        sigma_m (scalar): variance of the sensory noise in deactivation trials\n",
    "        T (scalar): threshold\n",
    "    Returns\n",
    "        list: binary choice, for each trial\n",
    "    \"\"\"\n",
    "    n = len(s)\n",
    "\n",
    "    # variance of noise for each trial\n",
    "    sigma = np.where(c == 'control', sigma_d, sigma_m)\n",
    "\n",
    "    # noisy stimulus (or percept), i.e. true stimulus evidence contaminated by noise\n",
    "    s_hat = s + np.random.normal(0, sigma, n)\n",
    "\n",
    "    # binary response (1 if noisy stimulus is above threshold, 0 otherwise)\n",
    "    r = s_hat > T  # Response based on stimulus (SDT)\n",
    "    return r"
   ],
   "outputs": [],
   "execution_count": 27
  },
  {
   "cell_type": "code",
   "id": "bde004ea",
   "metadata": {
    "colab": {
     "base_uri": "https://localhost:8080/",
     "height": 206
    },
    "id": "bde004ea",
    "outputId": "e918d270-37c4-4cdb-8b93-bba80e08561e",
    "ExecuteTime": {
     "end_time": "2024-09-20T15:49:55.266588Z",
     "start_time": "2024-09-20T15:49:55.258380Z"
    }
   },
   "source": [
    "# parameters of model B\n",
    "T = 0 #decision threshold\n",
    "sigma_d = 1 # decision noise\n",
    "sigma_m = 1.5\n",
    "\n",
    "#use generate experimental conditions from actual dataset\n",
    "c = df_exp[\"condition\"].tolist() # condition\n",
    "s = df_exp[\"stimulus\"].tolist() #stimulus evidence\n",
    "\n",
    "# simulated model\n",
    "r = simulate_modelA(s, c, sigma_d, sigma_m, T)\n",
    "\n",
    "df_modelA = pd.DataFrame({'stimulus': s, 'condition':c, 'response':r})\n",
    "\n",
    "df_modelA.head()"
   ],
   "outputs": [
    {
     "data": {
      "text/plain": [
       "   stimulus     condition  response\n",
       "0       0.0  manipulation     False\n",
       "1      -2.0  manipulation     False\n",
       "2       3.0       control      True\n",
       "3       2.0       control     False\n",
       "4       1.0       control      True"
      ],
      "text/html": [
       "<div>\n",
       "<style scoped>\n",
       "    .dataframe tbody tr th:only-of-type {\n",
       "        vertical-align: middle;\n",
       "    }\n",
       "\n",
       "    .dataframe tbody tr th {\n",
       "        vertical-align: top;\n",
       "    }\n",
       "\n",
       "    .dataframe thead th {\n",
       "        text-align: right;\n",
       "    }\n",
       "</style>\n",
       "<table border=\"1\" class=\"dataframe\">\n",
       "  <thead>\n",
       "    <tr style=\"text-align: right;\">\n",
       "      <th></th>\n",
       "      <th>stimulus</th>\n",
       "      <th>condition</th>\n",
       "      <th>response</th>\n",
       "    </tr>\n",
       "  </thead>\n",
       "  <tbody>\n",
       "    <tr>\n",
       "      <th>0</th>\n",
       "      <td>0.0</td>\n",
       "      <td>manipulation</td>\n",
       "      <td>False</td>\n",
       "    </tr>\n",
       "    <tr>\n",
       "      <th>1</th>\n",
       "      <td>-2.0</td>\n",
       "      <td>manipulation</td>\n",
       "      <td>False</td>\n",
       "    </tr>\n",
       "    <tr>\n",
       "      <th>2</th>\n",
       "      <td>3.0</td>\n",
       "      <td>control</td>\n",
       "      <td>True</td>\n",
       "    </tr>\n",
       "    <tr>\n",
       "      <th>3</th>\n",
       "      <td>2.0</td>\n",
       "      <td>control</td>\n",
       "      <td>False</td>\n",
       "    </tr>\n",
       "    <tr>\n",
       "      <th>4</th>\n",
       "      <td>1.0</td>\n",
       "      <td>control</td>\n",
       "      <td>True</td>\n",
       "    </tr>\n",
       "  </tbody>\n",
       "</table>\n",
       "</div>"
      ]
     },
     "execution_count": 28,
     "metadata": {},
     "output_type": "execute_result"
    }
   ],
   "execution_count": 28
  },
  {
   "cell_type": "code",
   "id": "47e477db",
   "metadata": {
    "colab": {
     "base_uri": "https://localhost:8080/",
     "height": 489
    },
    "id": "47e477db",
    "outputId": "584edc75-ceed-4c7e-d405-8a3c5044e2db",
    "ExecuteTime": {
     "end_time": "2024-09-20T15:49:55.495069Z",
     "start_time": "2024-09-20T15:49:55.349246Z"
    }
   },
   "source": [
    "plt.title('model A simulations');\n",
    "plot_data_psychometric(df_modelA)"
   ],
   "outputs": [
    {
     "data": {
      "text/plain": [
       "<Figure size 640x480 with 1 Axes>"
      ],
      "image/png": "[encoded data removed]"
     },
     "metadata": {},
     "output_type": "display_data"
    }
   ],
   "execution_count": 29
  },
  {
   "cell_type": "markdown",
   "id": "c69d22cf",
   "metadata": {
    "id": "c69d22cf"
   },
   "source": [
    "Can you already visualize a difference in the behavior of the two models?"
   ]
  },
  {
   "cell_type": "markdown",
   "id": "7aae227c",
   "metadata": {
    "id": "7aae227c"
   },
   "source": []
  },
  {
   "cell_type": "markdown",
   "id": "608a7eb6",
   "metadata": {
    "id": "608a7eb6"
   },
   "source": [
    "# PART I - 3. Model estimation\n",
    "\n",
    "We are lucky that in both models we can formulate analytically the statistical link between the observed variable (response) and the conditions.\n",
    "In simple signal detection theory, $p(r=1|s) = \\int_{\\hat s} p(r=1|\\hat s)p(\\hat s|s)d\\hat s = \\int_{\\hat s>T} \\mathcal N(\\hat s;s,\\sigma^2)d\\hat s=\\Phi( \\frac{s-T}{\\sigma})$ where $\\Phi$ is the cumulative standard normal function.\n",
    "\n",
    "So for model B (in deactivation trials): $p_B(r=1|s) = (1-\\lambda)\\Phi( \\frac{s}{\\sigma}) + \\lambda/2$\n",
    "\n",
    "## 3.1 Naive fitting\n",
    "\n",
    "A naive fitting procedure consists in adjusting manually the parameters in each model to try to visually match the experimental and theoretical psychometric curves. Here we just adjust the parameters by hand so that the predicted value captures the summary statistics qualitatively.\n",
    "To do so, first, define a function that computes the probability of a rightward choice according to model B as a function of stimulus evidence and experimental condition. Then define another function which uses this function to plot the theoretical psychometric curves according to model B, now at all continuous valus of stimulus evidence between -3 and 3 (and not just the 9 discrete values explored in the dataset). One of the benefit of using a statistical model is to draw predictions for experimental conditions not seen in the original dataset."
   ]
  },
  {
   "cell_type": "code",
   "id": "a9c18519",
   "metadata": {
    "id": "a9c18519",
    "ExecuteTime": {
     "end_time": "2024-09-20T15:49:55.578032Z",
     "start_time": "2024-09-20T15:49:55.573156Z"
    }
   },
   "source": [
    "# define probability of rightward choices according to model B (using equations above)\n",
    "def p_modelB(s, c, sigma_d, Lambda):\n",
    "    \"\"\"\n",
    "    Computes the probability of rightward choices according to model B\n",
    "    Args:\n",
    "        s (list): sensory evidence, for each trial\n",
    "        c (list): experimental condition, for each trial\n",
    "        sigma_d (scalar): variance of the sensory noise\n",
    "        Lambda (scalar): probability of lapse trial\n",
    "    Returns:\n",
    "        list: probability of rightward choice, for each trial\n",
    "    \"\"\"\n",
    "    tetha = lambda s: norm.cdf(s, sigma_d) # I assume T = 0.\n",
    "\n",
    "    # probability of rightward choice if control trial\n",
    "    p_ctrl = np.array(list(map(tetha, s)))\n",
    "\n",
    "    # probability of rightward choice if manipulated condition\n",
    "    p_manip = (1 - Lambda) * np.array(list(map(tetha, s))) + Lambda/2\n",
    "\n",
    "    # probability of rightward choice in control and manipulated condition\n",
    "    p = np.where(c == 'control', p_ctrl, p_manip)\n",
    "    return p\n",
    "\n",
    "# Plot psychometric curve at continuous values, for given model\n",
    "def plot_model(p_model):\n",
    "    \"\"\"\n",
    "    Args:\n",
    "        p_model (function): computes the probability of rightward choices according to corresponding model\n",
    "    \"\"\"\n",
    "    # define 100 angle points linearly spaced between -3 and 3\n",
    "    s_linspace = np.linspace(-3,3,100)\n",
    "\n",
    "    p_standard = p_model(s_linspace,'control')\n",
    "    p_manipulation = p_model(s_linspace,'manipulation')\n",
    "\n",
    "    # plot fitted psychometric functions\n",
    "    plt.plot(s_linspace, p_standard, 'b', label=\"control\")\n",
    "    plt.plot(s_linspace, p_manipulation, 'r', label=\"manipulation\")\n",
    "\n",
    "    plt.ylabel('p(rightward)')"
   ],
   "outputs": [],
   "execution_count": 30
  },
  {
   "cell_type": "markdown",
   "id": "b2921cb7",
   "metadata": {
    "id": "b2921cb7"
   },
   "source": [
    "Now use the widget below to adjust parameters to yield the best possible fit between experimental and theoretical psychometric curves. Is the fit good enough?"
   ]
  },
  {
   "cell_type": "code",
   "id": "4d609650",
   "metadata": {
    "scrolled": true,
    "colab": {
     "base_uri": "https://localhost:8080/",
     "height": 553,
     "referenced_widgets": [
      "81ee4f8faca041449b9b613810eb81bb",
      "9733e4aebff04cfd8464a4d1699875ac",
      "f997fe8fd21c49d4b217a59dbf57bb9a",
      "20e6533707e344d6a6bfc57408a2f59f",
      "ba41da463a344f30bd88eed404135fa5",
      "3ad60f5b33144a2db3d5770fa65be634",
      "69fdc7a7edaa4570a2fbe10d4b940faf",
      "8cad31d46f2442c9af0dcb818415887e",
      "b3e3464c8cf540998d8b165e95f6a076",
      "630097740e40444b8531f5ac2aa89c66"
     ]
    },
    "id": "4d609650",
    "outputId": "b364f3e4-71c6-4ed0-d382-4677d62e0f69",
    "ExecuteTime": {
     "end_time": "2024-09-20T15:49:56.233570Z",
     "start_time": "2024-09-20T15:49:55.725870Z"
    }
   },
   "source": [
    "#@title\n",
    "\n",
    "#@markdown Make sure you execute this cell to enable the widget!\n",
    "\n",
    "@widgets.interact(\n",
    "    sigma_hat=widgets.FloatSlider(1.0, min=0.0, max=2.0), # default, min and max values for noise variance param\n",
    "    Lambda_hat=widgets.FloatSlider(0.5, min=0.0, max=1.0)) # defaul, min and max values for lapse parameter\n",
    "\n",
    "def plot_data_estimate(sigma_hat, Lambda_hat):\n",
    "\n",
    "    # anonymous function taking stimulus and condition as argument, and computing the proba of response according to model\n",
    "    p_modelB_fun = lambda s,c: p_modelB(s, c, sigma_d=sigma_hat, Lambda=Lambda_hat)\n",
    "    print(p_modelB(s, c, sigma_d=sigma_hat, Lambda=Lambda_hat))\n",
    "\n",
    "    # plot model predictions\n",
    "    plot_model(p_modelB_fun)\n",
    "\n",
    "    # plot psychometric curve on top\n",
    "    plot_data_psychometric(df_exp)\n",
    "\n",
    "    plt.title('model B');\n",
    "    plt.show(); # needed for Colab"
   ],
   "outputs": [
    {
     "data": {
      "text/plain": [
       "interactive(children=(FloatSlider(value=1.0, description='sigma_hat', max=2.0), FloatSlider(value=0.5, descrip…"
      ],
      "application/vnd.jupyter.widget-view+json": {
       "version_major": 2,
       "version_minor": 0,
       "model_id": "99c7841f595d461c992591efc83494ac"
      }
     },
     "metadata": {},
     "output_type": "display_data"
    }
   ],
   "execution_count": 31
  },
  {
   "cell_type": "markdown",
   "id": "33ce5fa5",
   "metadata": {
    "id": "33ce5fa5"
   },
   "source": [
    "(Optional) Repeat the same for model A."
   ]
  },
  {
   "cell_type": "code",
   "id": "24452856",
   "metadata": {
    "colab": {
     "base_uri": "https://localhost:8080/"
    },
    "id": "24452856",
    "outputId": "f020a6ac-c560-4b2b-ebbd-05347af734a4",
    "ExecuteTime": {
     "end_time": "2024-09-20T15:49:56.838777Z",
     "start_time": "2024-09-20T15:49:56.267174Z"
    }
   },
   "source": [
    "# define probability of rightward choices according to model A (using equations above)\n",
    "def p_modelA(s,c, sigma_d, sigma_m):\n",
    "    \"\"\"\n",
    "    Computes the probability of rightward choices according to model A\n",
    "    Args:\n",
    "        s (list): sensory evidence, for each trial\n",
    "        c (list): experimental condition, for each trial\n",
    "        sigma_d (scalar): variance of the sensory noise in control trials\n",
    "        sigma_m (scalar): variance of the sensory noise in deactivation trials\n",
    "    Returns:\n",
    "        list: probability of rightward choice, for each trial\n",
    "    \"\"\"\n",
    "\n",
    "    # probability of rightward choice in control and manipulated condition\n",
    "    tetha = lambda sigma: lambda s: norm.cdf(s/sigma) # Assuming T = 0.\n",
    "    p = np.where(c == 'control', list(map(tetha(sigma_d), s)), list(map(tetha(sigma_m), s)))\n",
    "    return p\n",
    "\n",
    "tetha = lambda sigma: lambda s: norm.cdf(s/sigma) # Assuming T = 0.\n",
    "\n",
    "print(list(map(tetha(sigma_d), s))[:5], list(map(tetha(sigma_m), s))[:-5:-1])\n",
    "p_modelA(s, c, sigma_d=1, sigma_m=1.5)"
   ],
   "outputs": [
    {
     "name": "stdout",
     "output_type": "stream",
     "text": [
      "[0.5, 0.0227501319481792, 0.9986501019683699, 0.9772498680518208, 0.8413447460685429] [0.9772498680518208, 0.5, 0.5, 0.0227501319481792]\n"
     ]
    },
    {
     "data": {
      "text/plain": [
       "array([0.5       , 0.09121122, 0.97724987, ..., 0.5       , 0.5       ,\n",
       "       0.97724987])"
      ]
     },
     "execution_count": 32,
     "metadata": {},
     "output_type": "execute_result"
    }
   ],
   "execution_count": 32
  },
  {
   "cell_type": "code",
   "id": "009079ab",
   "metadata": {
    "colab": {
     "base_uri": "https://localhost:8080/",
     "height": 536,
     "referenced_widgets": [
      "e6461f311df645d58bf8b7087e2c7bb5",
      "fc3380e63c064cc7896390afe577cf89",
      "5167ac5e838b46efbc21ac8d29ca0a1f",
      "3ef6a232613940d499b6ee98ad61c52e",
      "3ba6bfd33f724b3984741282179047ca",
      "00fad3bfc9df43578c5e79fdab19434e",
      "d2b4847003404ace964347f50b1c9fca",
      "0d3161e18ae14ccaa8551963903b4f76",
      "6e6cb9a3fde54b17bfeb8abcf45d8927",
      "7e1a79c193ee49e5854b46283fa77af6"
     ]
    },
    "id": "009079ab",
    "outputId": "7998b033-b8ed-4d57-95c4-87f2deb5f716",
    "ExecuteTime": {
     "end_time": "2024-09-20T15:49:56.991920Z",
     "start_time": "2024-09-20T15:49:56.852783Z"
    }
   },
   "source": [
    "@widgets.interact(\n",
    "    sigma_d_hat=widgets.FloatSlider(1.0, min=0.0, max=2.0),\n",
    "    sigma_m_hat=widgets.FloatSlider(1.0, min=0.0, max=2.0))\n",
    "\n",
    "def plot_data_estimate(sigma_d_hat, sigma_m_hat):\n",
    "\n",
    "    # plot model predictions\n",
    "    plot_model(lambda s,c: p_modelA(s,c,sigma_d=sigma_d_hat, sigma_m=sigma_m_hat))\n",
    "\n",
    "    # plot psychometric curve on top\n",
    "    plot_data_psychometric(df_exp)\n",
    "\n",
    "    plt.title('model A');\n",
    "    plt.show(); # needed for Colab"
   ],
   "outputs": [
    {
     "data": {
      "text/plain": [
       "interactive(children=(FloatSlider(value=1.0, description='sigma_d_hat', max=2.0), FloatSlider(value=1.0, descr…"
      ],
      "application/vnd.jupyter.widget-view+json": {
       "version_major": 2,
       "version_minor": 0,
       "model_id": "d944aaf400db4aa297f4a9fad73fde3d"
      }
     },
     "metadata": {},
     "output_type": "display_data"
    }
   ],
   "execution_count": 33
  },
  {
   "cell_type": "markdown",
   "id": "9847aa7e",
   "metadata": {
    "id": "9847aa7e"
   },
   "source": [
    "## 3.2 Likelihood function\n",
    "Now we will use a more principled approach to parameter estimation by looking for the set of parameters that maximize a given metric, namely the **log-likelihood** of the data. The likelihood function is a function, defined for a given model and dataset, that takes the **parameters as input**.\n",
    "Complete the following function to compute the log-likelihood of model for a given set of parameters."
   ]
  },
  {
   "cell_type": "code",
   "id": "ba0b5002",
   "metadata": {
    "colab": {
     "base_uri": "https://localhost:8080/",
     "height": 106
    },
    "id": "ba0b5002",
    "outputId": "e615bac1-0f37-43c1-9eec-ef455b609d46",
    "ExecuteTime": {
     "end_time": "2024-09-20T15:49:57.007621Z",
     "start_time": "2024-09-20T15:49:57.003974Z"
    }
   },
   "source": [
    "def LogLikelihood_modelB(df, sigma_d, Lambda):\n",
    "    \"\"\"\n",
    "    Computes the log-likelihood of model B with certain parameter set\n",
    "    Args:\n",
    "        df (dataframe): dataset\n",
    "        c (list): experimental condition, for each trial\n",
    "        sigma_d (scalar): variance of the sensory noise\n",
    "        Lambda (scalar): probability of lapse trial\n",
    "    Returns:\n",
    "        scalar: log-likelihood of model B\n",
    "    \"\"\"\n",
    "    c = df[\"condition\"].tolist() # condition\n",
    "    s = df[\"stimulus\"].tolist() # stimulus evidence\n",
    "    r = df[\"response\"].tolist() # response\n",
    "\n",
    "    # p of rightward choice for each trial in dataset, according to model B\n",
    "    p = p_modelB(s, c, sigma_d, Lambda)\n",
    "\n",
    "    # likelihood for each trial (=p if choice is rightward, 1-p otherwise)\n",
    "    lh = np.where(r, p, 1-p)\n",
    "\n",
    "    # Handle division by zero\n",
    "    lh = np.where(lh == 0, np.finfo(float).eps, lh)\n",
    "\n",
    "    # log-likelihood for whole dataset (sum of log-likelihood of individual trials)\n",
    "    LLH = sum(np.log(lh))\n",
    "\n",
    "    return LLH"
   ],
   "outputs": [],
   "execution_count": 34
  },
  {
   "cell_type": "markdown",
   "id": "ab2c2602",
   "metadata": {
    "id": "ab2c2602"
   },
   "source": [
    "Compute the log-likelihood of model B at the values of the parameters obtained by naive fitting."
   ]
  },
  {
   "cell_type": "code",
   "id": "4f76e4a1",
   "metadata": {
    "id": "4f76e4a1",
    "ExecuteTime": {
     "end_time": "2024-09-20T15:49:57.296970Z",
     "start_time": "2024-09-20T15:49:57.036505Z"
    }
   },
   "source": [
    "llh_B = LogLikelihood_modelB(df_exp, sigma_d, Lambda=Lambda)\n",
    "print(llh_B)"
   ],
   "outputs": [
    {
     "name": "stdout",
     "output_type": "stream",
     "text": [
      "-1293.0354803590544\n"
     ]
    }
   ],
   "execution_count": 35
  },
  {
   "cell_type": "markdown",
   "id": "e2acebd9",
   "metadata": {
    "id": "e2acebd9"
   },
   "source": [
    "## 3.3 Maximum likelihood estimation\n",
    "\n",
    "Now that we have a function of parameters that defines a metric for how well the model accounts for the data, we will look for the parameter space in search for the parameter set that maximizes this metric.\n",
    "First, plot the value of the LLH as a function of both parameters, as a coloured plot."
   ]
  },
  {
   "cell_type": "code",
   "id": "a7090083",
   "metadata": {
    "id": "a7090083",
    "jupyter": {
     "is_executing": true
    },
    "ExecuteTime": {
     "start_time": "2024-09-20T15:49:57.369574Z"
    }
   },
   "source": [
    "# define linearly space values of Lambda and sigma\n",
    "Lambda = np.arange(0.005, 0.96, 0.025)\n",
    "sigma = np.arange(0.05, 3.0, 0.025)\n",
    "\n",
    "# compute all possible pairs of parameter values (defining a grid)\n",
    "LL, ss = np.meshgrid(Lambda, sigma)\n",
    "\n",
    "# compute LLH for each of these parameter sets\n",
    "LLH = np.zeros(LL.shape)\n",
    "for j in range(LL.shape[0]):\n",
    "    for k in range(LL.shape[1]):\n",
    "        LLH[j,k] = LogLikelihood_modelB(df_exp, Lambda=Lambda[k], sigma_d=sigma[j])\n",
    "\n",
    "# define function to plot Log-Likelihood profile\n",
    "def show_LL(LLH,Lambda,sigma):\n",
    "    im=plt.imshow(np.flipud(LLH), extent=[Lambda[0],Lambda[-1],sigma[0],sigma[-1]]);\n",
    "    plt.gca().set_aspect(0.4)\n",
    "    plt.ylabel('$\\sigma^2$')\n",
    "    plt.xlabel('$\\lambda$')\n",
    "    plt.colorbar(im)\n",
    "\n",
    "show_LL(LLH,Lambda,sigma)\n",
    "plt.title('LLH of model B');"
   ],
   "outputs": [
    {
     "name": "stderr",
     "output_type": "stream",
     "text": [
      "<>:18: SyntaxWarning: invalid escape sequence '\\s'\n",
      "<>:19: SyntaxWarning: invalid escape sequence '\\l'\n",
      "<>:18: SyntaxWarning: invalid escape sequence '\\s'\n",
      "<>:19: SyntaxWarning: invalid escape sequence '\\l'\n",
      "C:\\Users\\luis\\AppData\\Local\\Temp\\ipykernel_30856\\3624823594.py:18: SyntaxWarning: invalid escape sequence '\\s'\n",
      "  plt.ylabel('$\\sigma^2$')\n",
      "C:\\Users\\luis\\AppData\\Local\\Temp\\ipykernel_30856\\3624823594.py:19: SyntaxWarning: invalid escape sequence '\\l'\n",
      "  plt.xlabel('$\\lambda$')\n"
     ]
    }
   ],
   "execution_count": null
  },
  {
   "cell_type": "markdown",
   "id": "2cdfa5c7",
   "metadata": {
    "id": "2cdfa5c7"
   },
   "source": [
    "Finally, we can identify the maximum-likelihood parameters by using an optimization algorithm over the LLH function. Because most optimization tools are defined for minimization rather than maximization, we will actually minimize the negative Log-Likelihood (which is equivalent to maximize the LLH)."
   ]
  },
  {
   "cell_type": "code",
   "id": "612ba32e-6646-43d8-a2b2-8b0bdb6e876e",
   "metadata": {
    "id": "612ba32e-6646-43d8-a2b2-8b0bdb6e876e",
    "ExecuteTime": {
     "end_time": "2024-09-20T14:02:11.922859Z",
     "start_time": "2024-09-20T14:01:59.691276Z"
    }
   },
   "source": [
    "# Define the objective function (the to be maximized)\n",
    "def neg_llh_modelB(pp, df):\n",
    "    \"\"\"\n",
    "    Computes the neg-LLH for model B.\n",
    "    Args:\n",
    "        - pp (list): set of parameters (sigma_d,Lambda)\n",
    "        - df (dataframe): dataset\n",
    "    Returns;\n",
    "        - scalar: negative LLH\n",
    "    \"\"\"\n",
    "    return -LogLikelihood_modelB(df, *pp)\n",
    "\n",
    "# Define the bounds for each variable\n",
    "bounds = [(0.1, 10), (0.01, 1)]  # Example bounds: both variables are between 0 and 1\n",
    "\n",
    "# Initial guess for parameter set\n",
    "x0 = [0.75, 0.5]\n",
    "\n",
    "# Perform the optimization with bounds\n",
    "result = optimize.minimize(neg_llh_modelB, x0=x0, args=(df_exp), bounds=bounds)\n",
    "\n",
    "# Retrieve the optimized parameters\n",
    "(sigma_hat, Lambda_hat) = result.x\n",
    "\n",
    "# print\n",
    "print(\"sigma_hat^2 =\",sigma_hat)\n",
    "print(\"Lambda_hat =\",Lambda_hat)"
   ],
   "outputs": [
    {
     "name": "stdout",
     "output_type": "stream",
     "text": [
      "sigma_hat^2 = 0.1\n",
      "Lambda_hat = 0.09800700741921291\n"
     ]
    }
   ],
   "execution_count": 17
  },
  {
   "cell_type": "markdown",
   "id": "b2472c70",
   "metadata": {
    "id": "b2472c70"
   },
   "source": [
    "Add the maximum likelihood parameters as a red dot on the LLH profile."
   ]
  },
  {
   "cell_type": "code",
   "id": "fa121853-6135-48c7-899a-40c0103dc162",
   "metadata": {
    "id": "fa121853-6135-48c7-899a-40c0103dc162",
    "ExecuteTime": {
     "end_time": "2024-09-20T14:02:12.108997Z",
     "start_time": "2024-09-20T14:02:11.961865Z"
    }
   },
   "source": [
    "# plot LLH profile\n",
    "show_LL(LLH,Lambda,sigma)\n",
    "\n",
    "# add MLE parameters as red dot\n",
    "plt.plot(sigma_hat,Lambda_hat, color='red', marker='o')"
   ],
   "outputs": [
    {
     "data": {
      "text/plain": [
       "[<matplotlib.lines.Line2D at 0x10fc6bc4860>]"
      ]
     },
     "execution_count": 18,
     "metadata": {},
     "output_type": "execute_result"
    },
    {
     "data": {
      "text/plain": [
       "<Figure size 640x480 with 2 Axes>"
      ],
      "image/png": "[encoded data removed]"
     },
     "metadata": {},
     "output_type": "display_data"
    }
   ],
   "execution_count": 18
  },
  {
   "cell_type": "markdown",
   "id": "f801ede5",
   "metadata": {
    "id": "f801ede5"
   },
   "source": [
    "(Optional) Repeat maximum likelihood estimation, now for model A."
   ]
  },
  {
   "cell_type": "code",
   "id": "c49c1701",
   "metadata": {
    "id": "c49c1701",
    "ExecuteTime": {
     "end_time": "2024-09-20T14:02:12.131483Z",
     "start_time": "2024-09-20T14:02:12.126388Z"
    }
   },
   "source": [
    "def LogLikelihood_modelA(df, sigma_d, sigma_m):\n",
    "    \"\"\"\n",
    "    Computes the log-likelihood of model A with certain parameter set\n",
    "    Args:\n",
    "        df (dataframe): dataset\n",
    "        c (list): experimental condition, for each trial\n",
    "        sigma_d (scalar): variance of the sensory noise in control trials\n",
    "        sigma_m (scalar): variance of the sensory noise in deactivation trials\n",
    "    Returns:\n",
    "        scalar: log-likelihood of model B\n",
    "    \"\"\"\n",
    "\n",
    "    c = df[\"condition\"].tolist() # condition\n",
    "    s = df[\"stimulus\"].tolist() # stimulus evidence\n",
    "    r = df[\"response\"].tolist() # response\n",
    "\n",
    "    # p of rightward choice for each trial in dataset, according to model A\n",
    "    p = p_modelA(s, c=c, sigma_d=sigma_d, sigma_m=sigma_m)\n",
    "\n",
    "    lh = np.where(r, p, 1-p)\n",
    "\n",
    "    # Handle division by zero\n",
    "    lh = np.where(lh == 0, np.finfo(float).eps, lh)\n",
    "    \n",
    "    LLH = sum(np.log(lh))\n",
    "\n",
    "    return LLH"
   ],
   "outputs": [],
   "execution_count": 19
  },
  {
   "cell_type": "code",
   "id": "f73547b9",
   "metadata": {
    "id": "f73547b9",
    "ExecuteTime": {
     "end_time": "2024-09-20T14:02:23.530410Z",
     "start_time": "2024-09-20T14:02:12.159290Z"
    }
   },
   "source": [
    "# Define the objective function (the to be maximized)\n",
    "def neg_llh_modelA(pp, df):\n",
    "    \"\"\"\n",
    "    Computes the neg-LLH for model A.\n",
    "    Args:\n",
    "        - pp (list): set of parameters (sigma_d,sigma_m)\n",
    "        - df (dataframe): dataset\n",
    "    Returns;\n",
    "        - scalar: negative LLH\n",
    "    \"\"\"\n",
    "    return -LogLikelihood_modelA(df, *pp)\n",
    "\n",
    "# Define the bounds for each variable\n",
    "bounds = [(0.1, 10), (0.1, 10)]  # Example bounds: both variables are between 0 and 1\n",
    "\n",
    "# Initial guess for parameter set\n",
    "x0 = [0.75, 0.5]\n",
    "\n",
    "# Perform the optimization with bounds\n",
    "result = optimize.minimize(neg_llh_modelA, x0=x0, args=(df_exp), bounds=bounds)\n",
    "\n",
    "# Retrieve the optimized parameters\n",
    "(sigma_d_hat, sigma_m_hat) = result.x\n",
    "\n",
    "# print\n",
    "print(\"sigma_d_hat^2 =\",sigma_d_hat)\n",
    "print(\"sigma_m_hat^2 =\",sigma_m_hat)"
   ],
   "outputs": [
    {
     "name": "stdout",
     "output_type": "stream",
     "text": [
      "sigma_d_hat^2 = 0.75\n",
      "sigma_m_hat^2 = 1.4655693907675589\n"
     ]
    }
   ],
   "execution_count": 20
  },
  {
   "metadata": {
    "ExecuteTime": {
     "end_time": "2024-09-20T14:02:23.564027Z",
     "start_time": "2024-09-20T14:02:23.561309Z"
    }
   },
   "cell_type": "code",
   "source": "",
   "id": "6bfce66dce0cbf43",
   "outputs": [],
   "execution_count": null
  }
 ],
 "metadata": {
  "kernelspec": {
   "display_name": "Python 3 (ipykernel)",
   "language": "python",
   "name": "python3"
  },
  "language_info": {
   "codemirror_mode": {
    "name": "ipython",
    "version": 3
   },
   "file_extension": ".py",
   "mimetype": "text/x-python",
   "name": "python",
   "nbconvert_exporter": "python",
   "pygments_lexer": "ipython3",
   "version": "3.10.12"
  },
  "colab": {
   "provenance": []
  },
  "widgets": {
   "application/vnd.jupyter.widget-state+json": {
    "81ee4f8faca041449b9b613810eb81bb": {
     "model_module": "@jupyter-widgets/controls",
     "model_name": "VBoxModel",
     "model_module_version": "1.5.0",
     "state": {
      "_dom_classes": [
       "widget-interact"
      ],
      "_model_module": "@jupyter-widgets/controls",
      "_model_module_version": "1.5.0",
      "_model_name": "VBoxModel",
      "_view_count": null,
      "_view_module": "@jupyter-widgets/controls",
      "_view_module_version": "1.5.0",
      "_view_name": "VBoxView",
      "box_style": "",
      "children": [
       "IPY_MODEL_9733e4aebff04cfd8464a4d1699875ac",
       "IPY_MODEL_f997fe8fd21c49d4b217a59dbf57bb9a",
       "IPY_MODEL_20e6533707e344d6a6bfc57408a2f59f"
      ],
      "layout": "IPY_MODEL_ba41da463a344f30bd88eed404135fa5"
     }
    },
    "9733e4aebff04cfd8464a4d1699875ac": {
     "model_module": "@jupyter-widgets/controls",
     "model_name": "FloatSliderModel",
     "model_module_version": "1.5.0",
     "state": {
      "_dom_classes": [],
      "_model_module": "@jupyter-widgets/controls",
      "_model_module_version": "1.5.0",
      "_model_name": "FloatSliderModel",
      "_view_count": null,
      "_view_module": "@jupyter-widgets/controls",
      "_view_module_version": "1.5.0",
      "_view_name": "FloatSliderView",
      "continuous_update": true,
      "description": "sigma_hat",
      "description_tooltip": null,
      "disabled": false,
      "layout": "IPY_MODEL_3ad60f5b33144a2db3d5770fa65be634",
      "max": 2,
      "min": 0,
      "orientation": "horizontal",
      "readout": true,
      "readout_format": ".2f",
      "step": 0.1,
      "style": "IPY_MODEL_69fdc7a7edaa4570a2fbe10d4b940faf",
      "value": 0.5
     }
    },
    "f997fe8fd21c49d4b217a59dbf57bb9a": {
     "model_module": "@jupyter-widgets/controls",
     "model_name": "FloatSliderModel",
     "model_module_version": "1.5.0",
     "state": {
      "_dom_classes": [],
      "_model_module": "@jupyter-widgets/controls",
      "_model_module_version": "1.5.0",
      "_model_name": "FloatSliderModel",
      "_view_count": null,
      "_view_module": "@jupyter-widgets/controls",
      "_view_module_version": "1.5.0",
      "_view_name": "FloatSliderView",
      "continuous_update": true,
      "description": "Lambda_hat",
      "description_tooltip": null,
      "disabled": false,
      "layout": "IPY_MODEL_8cad31d46f2442c9af0dcb818415887e",
      "max": 1,
      "min": 0,
      "orientation": "horizontal",
      "readout": true,
      "readout_format": ".2f",
      "step": 0.1,
      "style": "IPY_MODEL_b3e3464c8cf540998d8b165e95f6a076",
      "value": 0.2
     }
    },
    "20e6533707e344d6a6bfc57408a2f59f": {
     "model_module": "@jupyter-widgets/output",
     "model_name": "OutputModel",
     "model_module_version": "1.0.0",
     "state": {
      "_dom_classes": [],
      "_model_module": "@jupyter-widgets/output",
      "_model_module_version": "1.0.0",
      "_model_name": "OutputModel",
      "_view_count": null,
      "_view_module": "@jupyter-widgets/output",
      "_view_module_version": "1.0.0",
      "_view_name": "OutputView",
      "layout": "IPY_MODEL_630097740e40444b8531f5ac2aa89c66",
      "msg_id": "",
      "outputs": [
       {
        "output_type": "stream",
        "name": "stdout",
        "text": [
         "[0.34683003 0.10496773 0.89503227 ... 0.34683003 0.34683003 0.89503227]\n"
        ]
       },
       {
        "output_type": "display_data",
        "data": {
         "text/plain": "<Figure size 640x480 with 1 Axes>",
         "image/png": "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\n"
        },
        "metadata": {}
       }
      ]
     }
    },
    "ba41da463a344f30bd88eed404135fa5": {
     "model_module": "@jupyter-widgets/base",
     "model_name": "LayoutModel",
     "model_module_version": "1.2.0",
     "state": {
      "_model_module": "@jupyter-widgets/base",
      "_model_module_version": "1.2.0",
      "_model_name": "LayoutModel",
      "_view_count": null,
      "_view_module": "@jupyter-widgets/base",
      "_view_module_version": "1.2.0",
      "_view_name": "LayoutView",
      "align_content": null,
      "align_items": null,
      "align_self": null,
      "border": null,
      "bottom": null,
      "display": null,
      "flex": null,
      "flex_flow": null,
      "grid_area": null,
      "grid_auto_columns": null,
      "grid_auto_flow": null,
      "grid_auto_rows": null,
      "grid_column": null,
      "grid_gap": null,
      "grid_row": null,
      "grid_template_areas": null,
      "grid_template_columns": null,
      "grid_template_rows": null,
      "height": null,
      "justify_content": null,
      "justify_items": null,
      "left": null,
      "margin": null,
      "max_height": null,
      "max_width": null,
      "min_height": null,
      "min_width": null,
      "object_fit": null,
      "object_position": null,
      "order": null,
      "overflow": null,
      "overflow_x": null,
      "overflow_y": null,
      "padding": null,
      "right": null,
      "top": null,
      "visibility": null,
      "width": null
     }
    },
    "3ad60f5b33144a2db3d5770fa65be634": {
     "model_module": "@jupyter-widgets/base",
     "model_name": "LayoutModel",
     "model_module_version": "1.2.0",
     "state": {
      "_model_module": "@jupyter-widgets/base",
      "_model_module_version": "1.2.0",
      "_model_name": "LayoutModel",
      "_view_count": null,
      "_view_module": "@jupyter-widgets/base",
      "_view_module_version": "1.2.0",
      "_view_name": "LayoutView",
      "align_content": null,
      "align_items": null,
      "align_self": null,
      "border": null,
      "bottom": null,
      "display": null,
      "flex": null,
      "flex_flow": null,
      "grid_area": null,
      "grid_auto_columns": null,
      "grid_auto_flow": null,
      "grid_auto_rows": null,
      "grid_column": null,
      "grid_gap": null,
      "grid_row": null,
      "grid_template_areas": null,
      "grid_template_columns": null,
      "grid_template_rows": null,
      "height": null,
      "justify_content": null,
      "justify_items": null,
      "left": null,
      "margin": null,
      "max_height": null,
      "max_width": null,
      "min_height": null,
      "min_width": null,
      "object_fit": null,
      "object_position": null,
      "order": null,
      "overflow": null,
      "overflow_x": null,
      "overflow_y": null,
      "padding": null,
      "right": null,
      "top": null,
      "visibility": null,
      "width": null
     }
    },
    "69fdc7a7edaa4570a2fbe10d4b940faf": {
     "model_module": "@jupyter-widgets/controls",
     "model_name": "SliderStyleModel",
     "model_module_version": "1.5.0",
     "state": {
      "_model_module": "@jupyter-widgets/controls",
      "_model_module_version": "1.5.0",
      "_model_name": "SliderStyleModel",
      "_view_count": null,
      "_view_module": "@jupyter-widgets/base",
      "_view_module_version": "1.2.0",
      "_view_name": "StyleView",
      "description_width": "",
      "handle_color": null
     }
    },
    "8cad31d46f2442c9af0dcb818415887e": {
     "model_module": "@jupyter-widgets/base",
     "model_name": "LayoutModel",
     "model_module_version": "1.2.0",
     "state": {
      "_model_module": "@jupyter-widgets/base",
      "_model_module_version": "1.2.0",
      "_model_name": "LayoutModel",
      "_view_count": null,
      "_view_module": "@jupyter-widgets/base",
      "_view_module_version": "1.2.0",
      "_view_name": "LayoutView",
      "align_content": null,
      "align_items": null,
      "align_self": null,
      "border": null,
      "bottom": null,
      "display": null,
      "flex": null,
      "flex_flow": null,
      "grid_area": null,
      "grid_auto_columns": null,
      "grid_auto_flow": null,
      "grid_auto_rows": null,
      "grid_column": null,
      "grid_gap": null,
      "grid_row": null,
      "grid_template_areas": null,
      "grid_template_columns": null,
      "grid_template_rows": null,
      "height": null,
      "justify_content": null,
      "justify_items": null,
      "left": null,
      "margin": null,
      "max_height": null,
      "max_width": null,
      "min_height": null,
      "min_width": null,
      "object_fit": null,
      "object_position": null,
      "order": null,
      "overflow": null,
      "overflow_x": null,
      "overflow_y": null,
      "padding": null,
      "right": null,
      "top": null,
      "visibility": null,
      "width": null
     }
    },
    "b3e3464c8cf540998d8b165e95f6a076": {
     "model_module": "@jupyter-widgets/controls",
     "model_name": "SliderStyleModel",
     "model_module_version": "1.5.0",
     "state": {
      "_model_module": "@jupyter-widgets/controls",
      "_model_module_version": "1.5.0",
      "_model_name": "SliderStyleModel",
      "_view_count": null,
      "_view_module": "@jupyter-widgets/base",
      "_view_module_version": "1.2.0",
      "_view_name": "StyleView",
      "description_width": "",
      "handle_color": null
     }
    },
    "630097740e40444b8531f5ac2aa89c66": {
     "model_module": "@jupyter-widgets/base",
     "model_name": "LayoutModel",
     "model_module_version": "1.2.0",
     "state": {
      "_model_module": "@jupyter-widgets/base",
      "_model_module_version": "1.2.0",
      "_model_name": "LayoutModel",
      "_view_count": null,
      "_view_module": "@jupyter-widgets/base",
      "_view_module_version": "1.2.0",
      "_view_name": "LayoutView",
      "align_content": null,
      "align_items": null,
      "align_self": null,
      "border": null,
      "bottom": null,
      "display": null,
      "flex": null,
      "flex_flow": null,
      "grid_area": null,
      "grid_auto_columns": null,
      "grid_auto_flow": null,
      "grid_auto_rows": null,
      "grid_column": null,
      "grid_gap": null,
      "grid_row": null,
      "grid_template_areas": null,
      "grid_template_columns": null,
      "grid_template_rows": null,
      "height": null,
      "justify_content": null,
      "justify_items": null,
      "left": null,
      "margin": null,
      "max_height": null,
      "max_width": null,
      "min_height": null,
      "min_width": null,
      "object_fit": null,
      "object_position": null,
      "order": null,
      "overflow": null,
      "overflow_x": null,
      "overflow_y": null,
      "padding": null,
      "right": null,
      "top": null,
      "visibility": null,
      "width": null
     }
    },
    "e6461f311df645d58bf8b7087e2c7bb5": {
     "model_module": "@jupyter-widgets/controls",
     "model_name": "VBoxModel",
     "model_module_version": "1.5.0",
     "state": {
      "_dom_classes": [
       "widget-interact"
      ],
      "_model_module": "@jupyter-widgets/controls",
      "_model_module_version": "1.5.0",
      "_model_name": "VBoxModel",
      "_view_count": null,
      "_view_module": "@jupyter-widgets/controls",
      "_view_module_version": "1.5.0",
      "_view_name": "VBoxView",
      "box_style": "",
      "children": [
       "IPY_MODEL_fc3380e63c064cc7896390afe577cf89",
       "IPY_MODEL_5167ac5e838b46efbc21ac8d29ca0a1f",
       "IPY_MODEL_3ef6a232613940d499b6ee98ad61c52e"
      ],
      "layout": "IPY_MODEL_3ba6bfd33f724b3984741282179047ca"
     }
    },
    "fc3380e63c064cc7896390afe577cf89": {
     "model_module": "@jupyter-widgets/controls",
     "model_name": "FloatSliderModel",
     "model_module_version": "1.5.0",
     "state": {
      "_dom_classes": [],
      "_model_module": "@jupyter-widgets/controls",
      "_model_module_version": "1.5.0",
      "_model_name": "FloatSliderModel",
      "_view_count": null,
      "_view_module": "@jupyter-widgets/controls",
      "_view_module_version": "1.5.0",
      "_view_name": "FloatSliderView",
      "continuous_update": true,
      "description": "sigma_d_hat",
      "description_tooltip": null,
      "disabled": false,
      "layout": "IPY_MODEL_00fad3bfc9df43578c5e79fdab19434e",
      "max": 2,
      "min": 0,
      "orientation": "horizontal",
      "readout": true,
      "readout_format": ".2f",
      "step": 0.1,
      "style": "IPY_MODEL_d2b4847003404ace964347f50b1c9fca",
      "value": 0.8
     }
    },
    "5167ac5e838b46efbc21ac8d29ca0a1f": {
     "model_module": "@jupyter-widgets/controls",
     "model_name": "FloatSliderModel",
     "model_module_version": "1.5.0",
     "state": {
      "_dom_classes": [],
      "_model_module": "@jupyter-widgets/controls",
      "_model_module_version": "1.5.0",
      "_model_name": "FloatSliderModel",
      "_view_count": null,
      "_view_module": "@jupyter-widgets/controls",
      "_view_module_version": "1.5.0",
      "_view_name": "FloatSliderView",
      "continuous_update": true,
      "description": "sigma_m_hat",
      "description_tooltip": null,
      "disabled": false,
      "layout": "IPY_MODEL_0d3161e18ae14ccaa8551963903b4f76",
      "max": 2,
      "min": 0,
      "orientation": "horizontal",
      "readout": true,
      "readout_format": ".2f",
      "step": 0.1,
      "style": "IPY_MODEL_6e6cb9a3fde54b17bfeb8abcf45d8927",
      "value": 1.7
     }
    },
    "3ef6a232613940d499b6ee98ad61c52e": {
     "model_module": "@jupyter-widgets/output",
     "model_name": "OutputModel",
     "model_module_version": "1.0.0",
     "state": {
      "_dom_classes": [],
      "_model_module": "@jupyter-widgets/output",
      "_model_module_version": "1.0.0",
      "_model_name": "OutputModel",
      "_view_count": null,
      "_view_module": "@jupyter-widgets/output",
      "_view_module_version": "1.0.0",
      "_view_name": "OutputView",
      "layout": "IPY_MODEL_7e1a79c193ee49e5854b46283fa77af6",
      "msg_id": "",
      "outputs": [
       {
        "output_type": "display_data",
        "data": {
         "text/plain": "<Figure size 640x480 with 1 Axes>",
         "image/png": "iVBORw0KGgoAAAANSUhEUgAAAjcAAAHHCAYAAABDUnkqAAAAOXRFWHRTb2Z0d2FyZQBNYXRwbG90bGliIHZlcnNpb24zLjcuMSwgaHR0cHM6Ly9tYXRwbG90bGliLm9yZy/bCgiHAAAACXBIWXMAAA9hAAAPYQGoP6dpAAB030lEQVR4nO3dd3hTZRsG8DstXYyW2TJaKFtQliwZZVZABNEKAqKUPWQjMmQrMmSVpSwFBwh+WIYyBAtlD2UIssGyStnQQoEWkvf747EpoYM0TXrS9P5dV66cc3JyztNYm4d3PTqllAIRERGRg3DSOgAiIiIia2JyQ0RERA6FyQ0RERE5FCY3RERE5FCY3BAREZFDYXJDREREDoXJDRERETkUJjdERETkUJjcEBERkUNhckNEDuPChQvQ6XRYunRpmt8bHh4OnU6H8PBwq8dFRBmLyQ0RkYW++uor6HQ61KxZU+tQiOgZTG6IiCy0bNky+Pv748CBAzh37pzW4RDRf5jcEBFZICIiAnv27MGMGTNQoEABLFu2TOuQiOg/TG6IyGrGjRsHnU6HM2fO4IMPPoCXlxcKFCiA0aNHQymFy5cvo1WrVvD09ETBggUxffr0JNe4ceMGunbtCh8fH7i7u6NSpUr47rvvkpx37949dOrUCV5eXsidOzeCg4Nx7969ZOM6deoUWrdujbx588Ld3R3VqlXDunXr0vWzLlu2DHny5MGbb76J1q1bM7khsiNMbojI6tq2bQuDwYDJkyejZs2amDBhAkJCQvD666+jSJEimDJlCkqVKoUhQ4Zgx44dxvc9evQIDRo0wA8//IAOHTpg6tSp8PLyQqdOnTBr1izjeUoptGrVCj/88AM++OADTJgwAVeuXEFwcHCSWI4fP47XXnsNJ0+exPDhwzF9+nTkyJEDb7/9NlavXm3xz7hs2TIEBQXB1dUV7du3x9mzZ/Hnn39afD0isiJFRGQlY8eOVQBUjx49jMeePn2qfH19lU6nU5MnTzYev3v3rvLw8FDBwcHGYyEhIQqA+vHHH43H4uPjVa1atVTOnDlVTEyMUkqpNWvWKADqyy+/NLlPQECAAqCWLFliPN64cWNVoUIF9fjxY+Mxg8GgateurUqXLm08tm3bNgVAbdu27YU/519//aUAqC1bthiv5+vrqwYMGPDC9xKR7bHlhoisrlu3bsZtZ2dnVKtWDUopdO3a1Xg8d+7cKFu2LP7991/jsQ0bNqBgwYJo37698ZiLiwv69++PBw8eYPv27cbzsmXLht69e5vcp1+/fiZx3LlzB1u3bsV7772H+/fv49atW7h16xZu376Npk2b4uzZs4iMjEzzz7ds2TL4+PigYcOGAACdToe2bdtixYoV0Ov1ab4eEVkXkxsisrqiRYua7Ht5ecHd3R358+dPcvzu3bvG/YsXL6J06dJwcjL901SuXDnj6wnPhQoVQs6cOU3OK1u2rMn+uXPnoJTC6NGjUaBAAZPH2LFjAcgYn7TQ6/VYsWIFGjZsiIiICJw7dw7nzp1DzZo1cf36dYSFhaXpekRkfdm0DoCIHI+zs7NZxwAZP2MrBoMBADBkyBA0bdo02XNKlSqVpmtu3boVUVFRWLFiBVasWJHk9WXLlqFJkyZpD5aIrIbJDRHZjWLFiuHo0aMwGAwmrTenTp0yvp7wHBYWhgcPHpi03pw+fdrkeiVKlAAgXVuBgYFWiXHZsmXw9vbGvHnzkrwWGhqK1atXY/78+fDw8LDK/Ygo7dgtRUR2o3nz5rh27RpWrlxpPPb06VPMmTMHOXPmRP369Y3nPX36FF9//bXxPL1ejzlz5phcz9vbGw0aNMCCBQsQFRWV5H43b95MU3yPHj1CaGgoWrRogdatWyd59O3bF/fv30/3NHMiSh+23BCR3ejRowcWLFiATp064eDBg/D398eqVauwe/duhISEIFeuXACAli1bok6dOhg+fDguXLiA8uXLIzQ0FNHR0UmuOW/ePNStWxcVKlRA9+7dUaJECVy/fh179+7FlStX8Pfff5sd37p163D//n289dZbyb7+2muvGRf0a9u2rWUfAhGlG5MbIrIbHh4eCA8Px/Dhw/Hdd98hJiYGZcuWxZIlS9CpUyfjeU5OTli3bh0GDhyIH3/8ETqdDm+99RamT5+OKlWqmFyzfPny+OuvvzB+/HgsXboUt2/fhre3N6pUqYIxY8akKb5ly5bB3d0dr7/+erKvOzk54c0338SyZctw+/Zt5MuXL82fARGln07ZcjQfERERUQbjmBsiIiJyKExuiIiIyKEwuSEiIiKHwuSGiIiIHAqTGyIiInIoTG6IiIjIoWS5dW4MBgOuXr2KXLlyQafTaR0OERERmUEphfv376Nw4cJJius+L8slN1evXoWfn5/WYRAREZEFLl++DF9f31TPyXLJTcLy7ZcvX4anp6fG0RAREZE5YmJi4OfnZ/weT02WS24SuqI8PT2Z3BAREWUy5gwp4YBiIiIicihMboiIiMihMLkhIiIih5LlxtyYS6/X48mTJ1qHQXbExcUFzs7OWodBREQvwOTmOUopXLt2Dffu3dM6FLJDuXPnRsGCBblGEhGRHWNy85yExMbb2xvZs2fnlxgBkKT34cOHuHHjBgCgUKFCGkdEREQpYXLzDL1eb0xs8uXLp3U4ZGc8PDwAADdu3IC3tze7qIiI7BQHFD8jYYxN9uzZNY6E7FXC7wbHYxER2S8mN8lgVxSlhL8bRET2j8kNERERORRNk5sdO3agZcuWKFy4MHQ6HdasWfPC94SHh+PVV1+Fm5sbSpUqhaVLl9o8TrKupUuXInfu3FqHQUREDkrT5CY2NhaVKlXCvHnzzDo/IiICb775Jho2bIgjR45g4MCB6NatG37//XcbR0r+/v4ICQnROgwiIrJjej0QHg789JM86/XaxKHpbKk33ngDb7zxhtnnz58/H8WLF8f06dMBAOXKlcOuXbswc+ZMNG3a1FZhkpn0ej10Oh2cnNjbSUSUGSgFGAyJD6USjyW3rVTi+57f/u03YNQoICoq8fq+vsCsWUBQUMb+XJlqKvjevXsRGBhocqxp06YYOHBgiu+Ji4tDXFyccT8mJsZW4WnKYDBg2rRpWLhwIS5fvgwfHx/07NkTI0eOxLFjxzBgwADs3bsX2bNnx7vvvosZM2YgZ86cAIBOnTrh3r17qFu3LqZPn474+Hi0a9cOISEhcHFxQYMGDXDx4kUMGjQIgwYNAiDrvixduhQDBw7E999/j+HDh+PMmTM4d+4cvLy8MGDAAPz666+Ii4tD/fr1MXv2bJQuXVrLj4iIKEPp9cCDB0BMjDxiY2U/NlYeDx8Cjx6ZPuLigMeP5Tnh8eQJEB+f+HjyJPHx9KnpQ69PfE54GAyJzwkPvT4xObGlyEigdWtg1aqMTXAyVXJz7do1+Pj4mBzz8fFBTEwMHj16ZFyH5FmTJk3C+PHjLb6nUvILqIXs2QFzJ+eMGDECixYtwsyZM1G3bl1ERUXh1KlTiI2NRdOmTVGrVi38+eefuHHjBrp164a+ffuajFfatm0bChUqhG3btuHcuXNo27YtKleujO7duyM0NBSVKlVCjx490L17d5P7Pnz4EFOmTMHixYuRL18+eHt7o3379jh79izWrVsHT09PDBs2DM2bN8eJEyfg4uJixU+IiMj29HogLAw4dQrIlg0oVAi4cwe4eVMet2/L/r17wN278oiOlkQmq1NKvscGDgRatQIyanmwTJXcWGLEiBEYPHiwcT8mJgZ+fn5mv//hQ+C/Bo4M9+ABkCPHi8+7f/8+Zs2ahblz5yI4OBgAULJkSdStWxeLFi3C48eP8f333yPHfxebO3cuWrZsiSlTphiTxTx58mDu3LlwdnbGSy+9hDfffBNhYWHo3r078ubNC2dnZ+TKlQsFCxY0ufeTJ0/w1VdfoVKlSgBgTGp2796N2rVrAwCWLVsGPz8/rFmzBm3atLHWx0NEZBVKAdeuAefOARcvApcuJT4fPw5cuZK+Vg4XF8DTU75LcuRIfGTPDnh4yCN7dsDdXR5ubonPrq6Jz66uci1XV0myXFzk+dmHs7M8nt12cjLdTumh08nj2e0XPQBg+3agUaPUP9/Ll4GdO4EGDSz/HNMiUyU3BQsWxPXr102OXb9+HZ6ensm22gCAm5sb3NzcMiI8zZw8eRJxcXFo3Lhxsq9VqlTJmNgAQJ06dWAwGHD69GljcvPyyy+brLhbqFAhHDt27IX3dnV1RcWKFU3uly1bNtSsWdN4LF++fChbtixOnjxp0c9HRGQNcXHS+nL8uDxOnwbOnpWkxpIW+gYNgGrVgHz5gLx5gTx5Eh9eXvLw9JTkxJFdu2beec+OxbG1TJXc1KpVCxs2bDA5tmXLFtSqVctm98yeXbumRXMXSk4psUuL57uLdDodDAaDWffmwnZEZG9iYoDDh4GDB+Vx6JAkMinN3nFyAooVA4oXB4oWBfz8gLlzpYspOTodcP488McfGdfVYq/MLbWXkSX5NE1uHjx4gHPnzhn3IyIicOTIEeTNmxdFixbFiBEjEBkZie+//x4A0KtXL8ydOxdDhw5Fly5dsHXrVvz8889Yv369zWLU6czrGtJS6dKl4eHhgbCwMHTr1s3ktXLlymHp0qWIjY01tt7s3r0bTk5OKFu2rNn3cHV1hd6MOX3lypXD06dPsX//fmO31O3bt3H69GmUL18+DT8VEZF5lJJupJ07gV275HHyZPJdSV5ewMsvy6N8eaB0aaBUKUlqXF0TzwsPBz7/PPV7ZnRXi70KCJBZUZGRyX/mOp28HhCQcTFpmtz89ddfaNiwoXE/YWxMcHAwli5diqioKFy6dMn4evHixbF+/XoMGjQIs2bNgq+vLxYvXpzlp4G7u7tj2LBhGDp0KFxdXVGnTh3cvHkTx48fR4cOHTB27FgEBwdj3LhxuHnzJvr164cPP/wwyeDs1Pj7+2PHjh1o164d3NzckD9//mTPK126NFq1aoXu3btjwYIFyJUrF4YPH44iRYqgVatW1vqRiSiLu3kT2LIF2LxZWk8iI5Oe4+cHVK2a+KhYEShc2LyJGuZ2oWRkV4u9cnaW6d6tW8tn+2yCk/BZh4RkbAuXpslNgwYNoFIZpZXc6sMNGjTA4cOHbRhV5jR69Ghky5YNY8aMwdWrV1GoUCH06tUL2bNnx++//44BAwagevXqJlPB0+Kzzz5Dz549UbJkScTFxaX6323JkiUYMGAAWrRogfj4eNSrVw8bNmzgTCkisphS0s20ejWwYYN0Mz0rWzYZ/1K3rjxq1QK8vS2/nz12tdizoCCZ7j1ggAzATuDrK4lNRq9zo1OpfUs5oJiYGHh5eSE6Ohqenp4mrz1+/BgREREoXrw43N3dNYqQ7Bl/R4gyjsEA7N0LhIbK48IF09crVQKaNJFH7drmj1M0h14P+Pu/uKslIoJjbp6l10tXXVSUJH4BAdb7fFL7/n5ephpQTEREju/cOeC774AffpCxNAk8PIA33gDeeksSGlu2mthjV0tm4OxsH2OQmNwQEZHmYmOlHtGSJcCePYnHPT0lmQkKApo2tW7rzIvYW1cLmY/JDRERaSYiApg3D/jmG1nhF5Bp2U2aAMHBsqqtFVa7sFhQkMRgq64Wsg0mN0RElOF27gSmTQN+/TWxy6dECaBXL6BDB5nVZC/spasl00ioQ1G8uGYhMLkhIqIMoZTUaPr8c2DHjsTjTZoA/fvLeBonJ+3iIwsoJYOk9uwBdu+W5+PHgZYtgXXrNAuLyQ0REdmUUsCmTcBnnwH79skxV1egUydg0CDgpZc0DY/SwmAAjh2T7DThceNG0vNu3sz42J7B5IaIiGzm0CHg449lxV9ACkJ27w4MHSoDc8nOKQWcOAFs3SqP7duT1qRwdQWqV5f5+AmP9CwyZAVMboiIyOouXwZGjpTp3IAUj+zTB/jkE6BgQW1joxeIjExc/nnrVuC5gtXIkQOoUweoXx+oV09WT7Szdb+Y3BARkdU8fgxMngxMmSLbgAwQ/uILKUxJdiguTkZ4b9wI/P67jJl5loeHLPvcqBHQsKHUsshm3+mDfUdH6dKgQQNUrlwZISEhmsXQqVMn3Lt3D2vWrLHpfZYuXYqBAwfiXsJcUiLKcOHhQM+ewJkzsh8QAEyfLj0WZGeuXJE6Fhs2SHGu2NjE13Q6+Y/WpAkQGAi89po0vWUiTG7IKi5cuIDixYvj8OHDqFy5svH4rFmzUq1DZQl/f38MHDgQAwcONB5r27YtmjdvbtX7EJF5bt+W7qYlS2S/UCHT1X3JDigF/P23zGBauzZpca6CBYHmzYFmzaSFJl8+beK0EiY3ZFNeXl4Zch8PDw94aLnSF1EWtXq1tNbcvCmJTK9ewKRJQAb9r0+p0etlavYvvwBr1pjWstDppEXmzTclqalc2aEyUa4o4CBiY2PRsWNH5MyZE4UKFcL06dNNXo+Li8OQIUNQpEgR5MiRAzVr1kR4wvQFALdv30b79u1RpEgRZM+eHRUqVMBPP/1kcg2DwYAvv/wSpUqVgpubG4oWLYovvvgCAFD8v8WaqlSpAp1Ohwb/rXjVqVMnvP322wCAhQsXonDhwjAYDCbXbdWqFbp06QIAOH/+PFq1agUfHx/kzJkT1atXxx9//GE8t0GDBrh48SIGDRoEnU4H3X//My5duhS5c+c2ue7XX3+NkiVLwtXVFWXLlsUPCSMb/6PT6bB48WK88847yJ49O0qXLo11Gq7LQJSZPHgAdOsmK/jevAm88oosc/LVV0xsNPX0qSwm1Ls3UKSIDPidNUsSGw8PWW7522+Ba9ck8Rk5EqhSxXqJTWysXEunM+3qymgqi4mOjlYAVHR0dJLXHj16pE6cOKEePXqUeNBgUOrBA20eBoPZP1fv3r1V0aJF1R9//KGOHj2qWrRooXLlyqUGDBiglFKqW7duqnbt2mrHjh3q3LlzaurUqcrNzU2dOXNGKaXUlStX1NSpU9Xhw4fV+fPn1ezZs5Wzs7Pav3+/8R5Dhw5VefLkUUuXLlXnzp1TO3fuVIsWLVJKKXXgwAEFQP3xxx8qKipK3b59WymlVHBwsGrVqpVSSqk7d+4oV1dX9ccffxivefv2bZNjR44cUfPnz1fHjh1TZ86cUaNGjVLu7u7q4sWLxvN9fX3VZ599pqKiolRUVJRSSqklS5YoLy8v43VDQ0OVi4uLmjdvnjp9+rSaPn26cnZ2Vlu3bjWeA0D5+vqq5cuXq7Nnz6r+/furnDlzGmNPTrK/I0RZzP79SpUqpRSglE6n1NChSsXFaR1VFqbXK7V9u1IffaSUt7f8h0l45M6tVMeOSq1dq9TDh7aP5cGDxHs/eGDVS6f2/f08JjfPSPaL69n/UBn9MPMX4/79+8rV1VX9/PPPxmO3b99WHh4easCAAerixYvK2dlZRUZGmryvcePGasSIESle980331Qff/yxUkqpmJgY5ebmZkxmnhcREaEAqMOHD5scfza5UUqpVq1aqS5duhj3FyxYoAoXLqz0en2Kcbz88stqzpw5xv1ixYqpmTNnmpzzfHJTu3Zt1b17d5Nz2rRpo5o3b27cB6BGjRpl3H/w4IECoDZu3JhiLExuKCvT65WaOFEpZ2f5E+Xrq9S2bVpHlUUZDEodPqzUxx8rVaSI6XdHvnxKdeum1KZNGZ912klywzE3DuD8+fOIj49HzZo1jcfy5s2LsmXLAgCOHTsGvV6PMmXKmLwvLi4O+f4bNKbX6zFx4kT8/PPPiIyMRHx8POLi4pD9vxK8J0+eRFxcHBo3bpyuWDt06IDu3bvjq6++gpubG5YtW4Z27drB6b811x88eIBx48Zh/fr1iIqKwtOnT/Ho0SNcunQpTfc5efIkevToYXKsTp06mDVrlsmxihUrGrdz5MgBT09P3EhutU2iLC46WgpZrl0r+23bAl9/DeTJo21cWc7ly8Dy5bKA0LNTtr28gHfekf8wjRsDLi7axWgHmNy8SPbs0rms1b2t4MGDB3B2dsbBgwfh/Fwp25w5cwIApk6dilmzZiEkJAQVKlRAjhw5MHDgQMTHxwOA1QbrtmzZEkoprF+/HtWrV8fOnTsxc+ZM4+tDhgzBli1bMG3aNJQqVQoeHh5o3bq1MQ5rc3nuD4BOp0syJogoqztxQr43z5yRGcHz5gFdujjU+FP79uiRjNxeskTG0yTMQHVzkxpOHTpIYS57mK6t1ydu79gh08k1KKHO5OZFdDpZjdGOlSxZEi4uLti/fz+KFi0KALh79y7OnDmD+vXro0qVKtDr9bhx4wYCAgKSvcbu3bvRqlUrfPDBBwBk8PCZM2dQvnx5AEDp0qXh4eGBsLAwdOvWLcn7XV1dAUgLUGrc3d0RFBSEZcuW4dy5cyhbtixeffVVkzg6deqEd955B4AkZhcuXEhyrxfdp1y5cti9ezeCg4NNrp3w8xCReVatkhpQsbGAn59MvOG6NRlAKeDgQeCbb4CffpKmswT16gEffihz7Z+bSKGp0FCpgJqgeXOpsTFrlow8z0BMbhxAzpw50bVrV3zyySfIly8fvL29MXLkSGNXT5kyZdChQwd07NgR06dPR5UqVXDz5k2EhYWhYsWKePPNN1G6dGmsWrUKe/bsQZ48eTBjxgxcv37dmAy4u7tj2LBhGDp0KFxdXVGnTh3cvHkTx48fR9euXeHt7Q0PDw9s2rQJvr6+cHd3T3EaeIcOHdCiRQscP37cmEwlKF26NEJDQ9GyZUvodDqMHj06SUuKv78/duzYgXbt2sHNzQ358+dPco9PPvkE7733HqpUqYLAwED8+uuvCA0NNZl5RUQpU0oKXY4bJ/sNGwIrVmheMsjxxcRIt9PChcDhw4nHixWTLDM4GPhvdqpdCQ2VZOv5dc0iI+X4qlUZm+BYdbRPJpDmAcWZxP3799UHH3ygsmfPrnx8fNSXX36p6tevb5wtFR8fr8aMGaP8/f2Vi4uLKlSokHrnnXfU0aNHlVIyALlVq1YqZ86cytvbW40aNUp17NjRZDCwXq9XEyZMUMWKFVMuLi6qaNGiauLEicbXFy1apPz8/JSTk5OqX7++UirpgOKE6xQqVEgBUOfPnzd5LSIiQjVs2FB5eHgoPz8/NXfuXJOfQyml9u7dqypWrKjc3NxUwq/w8wOKlVLqq6++UiVKlFAuLi6qTJky6vvvvzd5HYBavXq1yTEvLy+1ZMmSFD/nzPw7QmSu+HilOndOHBc6eLBST55oHZWDO3hQBgHnyJH4wbu5KfX++0r98YeM5rZXT5/K6PKUJsfodEr5+cl56ZCWAcU6pay8fKydi4mJgZeXF6Kjo+Hp6Wny2uPHjxEREYHixYvD3c6KgJF94O8IObr794E2baTEkJOTrFvTs6fWUTmouDjgf/+TQUz79iUef+kloEcPoGPHzLFScHi4NO29yLZtwH9roFkite/v57FbioiIAABXr8qCtUeOyHyGlSuBFi20jsoBXb0qWePChbICIiCzm1q3liWeAwIy12jtqCjrnmcFTG6IiAjnz8sM4osXZVzNb79x4LDVHTwIhIRI1vjkiRwrUkSaxrp3l/pOmVGhQtY9zwqY3BARZXGnT0tiExkJlC4NbNoElCihdVQOwmCQTHHaNGDnzsTjdeoAAwdKOYTMviZNQIDMioqMTDqgGJBWKF9fOS+DsLYUEVEWduIEUL++fC+VLy9LkzCxsYK4OKnh9PLLksDs3AlkyyZr0hw4AOzaJd1QmT2xAWQdm4QFUp/vTkvYDwnJ0PVumNwkI4uNsaY04O8GOZK//5bE5vp1oFIlGReaWXtG7Mb9+8DUqTJdu2tX4NQpWT142DDgwgXgxx8ds78vKEimexcubHrc1zfjp4GD3VImElarffjwodVW5CXH8vDhQwBJVzYmymwOHQICA4G7d4GqVYHNm4G8ebWOKhO7cweYPVsed+/KsSJFgEGDZDzNC2b3OISgIPmlSljjbMMGrlBsD5ydnZE7d25jbaHs2bNDl5lGrJPNKKXw8OFD3LhxA7lz505SxoIoMzl5EmjaVL6DX3sN2LjRvha6zVRu3ACmT5fZTwmlesqWBYYPB95/H/hv9fYs49m/jfXqaZLYAExukij4X5ssiydScnLnzm38HSHKjC5cAF5/Hbh1C6hWTdazyQqNClZ344Z0P82bJ7WfAOnbGzlSWjD4DyBNMbl5jk6nQ6FCheDt7Y0nCVP1iCBdUWyxoczs2jVJbBIGD2/cyMQmzW7elJlPc+cC/3VTo3p1YMwYWSSIrf12gclNCpydnflFRkQO4+5d6Yo6dw7w95cxNsmUZaOUREdL99PMmYndT9WqSfGt5s2Z1CTIkSP56eAZjMkNEZGDe/hQVho+ehTw8QG2bJGxrmSGR4+klWbyZBk0DABVqgDjx8uHyqTGLjG5ISJyYAaDlCjas0cGDW/eLAvFJnwnP3gg/9im5zx9KuvUjB8v5RIAqfk0YYKMqWFSY9eY3BARObBPPwV++UXWilu7FqhYEYiN1ToqO6YU8Ouvsi7NqVNyrFgx6X764ANZiI/sHhfxIyJyUIsXA1OmyPa338rMXErF/v2yqmGrVpLY5MsnK+seOgR07iwZIjPDTIEpKBGRAwoLA3r3lu0xY6TRgVJw+bKsS7N8uey7u8vie8OGyYJ0TGgyHSY3REQO5uRJ4N13ZdjI++9LjwolIzYW+PJLWa/m0SMZRxMcDHz+uZQNoEyL3VJERA7k3j3grbdk5nLdutId9fzYV70+cXvHDtP9LEEpqfFUpgzw2WeS2NSrB/z1F7BkCRMbB8DkhojIQRgMwIcfylo2xYoBq1cDbm6m54SGygJ+CZo3l3VvQkMzNFTtHD4MBATIB3X1qhS4XLVKqoa++qrW0ZGVMLkhInIQEyYAv/0mCU1oaNJF+kJDgdatZYXiZ0VGynGHTnDu3AE++kgW3tu9W+a/T5oEnDghfXic2u1QmNwQETmADRsSx9bMn5+0EUKvBwYMSH7x2IRjAwc6YBeVwSDTxsqUAb7+WvbbtZPZUMOHy+DhF8ny/XiZD5MbIqJM7vx5oEMHSVJ69QI6dUp6zs6dwJUrKV9DKZk0tHOnzcLMeMeOSRdU9+7A7dvAK68A27YBP/1k/riaLN+PlzkxuSEiysQePpQFc+/dA157TZZlSU5UlHnXM/c8u/bgATBkiJRJ2LMHyJlT6kIdPgw0aGD+dbJ0P17mxuSGiCgTGzRIakZ5e8u42OcHECcoVMi865l7nt1av15aWqZPl+6jd9+VufGDB6dtdeEs24/nGJjcEBFlUqtWAQsXyljYZctSL4YZECA9MSmNm9XpAD8/OS9Tun5dxtK0aCH9a/7+kuisWmXZ1O4s2Y/nOJjcEBFlQhcvylASQBbSDQxM/XxnZ2DWLNl+PsFJ2A8JkfMyFaVkbZpy5YCVKwEnJ+mS+ucfGR9jqSzVj+d4mNwQEWUyCSsP37sH1Kwp69CZIyhIGjIKFzY97usrx4OCrB6qbV24ADRpAnTpAty9K2NsDhyQFYfTW+o8y/TjOSYmN0REmcxnn8k4WU9Pmfjj4mL+e4OCZGmXBBs2ABERmSyxMRiAr74CKlQA/vhDpnNPmSKJTdWq1rmHw/fjOTYmN0REmUh4uCzWB8h4m+LF036NZ7ue6tXLZF1R588DjRsDffrIrKi6dYG//waGDk3bgOEXcdh+vKyByQ0RUSYRHS1VA5QCunYF2rbVOqIMpJS01lSsKBle9uzA7NnA9u2yQJ8tOFw/XtbBquBERJnEwIEygadUqcRGhSzhyhUZV7Nli+w3aAB88w1QooTt7x0UJKO1vbxkf8MGGefDFhu7xpYbIqJMYN06YOlS6RFZujT942UzBaWAH36QlYW3bJGxNbNmAWFhGZPYJMjU/XhZE1tuiIjs3O3bQI8esj1kCFCnTvqulyNH8mvT2ZXbt6WWxKpVsl+jBvD990DZstrGRZkCW26IiOxcnz6yRl358uZP+87UtmyRsTWrVskg4QkTpJI3ExsyE1tuiIjs2M8/y9p0zs7Ad9+ZV8Q603r8GBgxIrFAVtmywPLlSUucE72A5i038+bNg7+/P9zd3VGzZk0cOHAg1fNDQkJQtmxZeHh4wM/PD4MGDcLjx48zKFoiooxz7Rrw0Uey/emnQLVq2sZjU8ePS9dTQmLz0UfAoUP2kdgk9OMplUUGO2V+miY3K1euxODBgzF27FgcOnQIlSpVQtOmTXHjxo1kz1++fDmGDx+OsWPH4uTJk/jmm2+wcuVKfPrppxkcORGR7Q0YIENPKlcGRo3SOhobUQpYsEAyt2PHpALob78B8+bJdG8iC2ia3MyYMQPdu3dH586dUb58ecyfPx/Zs2fHt99+m+z5e/bsQZ06dfD+++/D398fTZo0Qfv27V/Y2kNElNn89pt0STk7A99+C7i6ah2RDdy5A7RuLQOHHz8GmjaVEudvvql1ZJTJaZbcxMfH4+DBgwh8ptqbk5MTAgMDsXfv3mTfU7t2bRw8eNCYzPz777/YsGEDmqdSHC0uLg4xMTEmDyIie3b/fmJ31ODBUjLJ4ezeLU1SoaFSP2LaNFlDxsdH68jIAWg2oPjWrVvQ6/Xwee4X2cfHB6dOnUr2Pe+//z5u3bqFunXrQimFp0+folevXql2S02aNAnjx4+3auxERLY0ahRw+bKUVhg3TutorMxgkMKWI0cCer2sSPjTTw4+oIgymuYDitMiPDwcEydOxFdffYVDhw4hNDQU69evx+eff57ie0aMGIHo6Gjj4/LlyxkYMRFR2hw4AMyZI9sLFjjYsJNbt4AWLYDhwyWxef99GTTMxIasTLOWm/z588PZ2RnXr183OX79+nUULFgw2feMHj0aH374Ibp16wYAqFChAmJjY9GjRw+MHDkSTk5JczU3Nze4ublZ/wcgIjJDbCyQM6dsP3iQ+mSbJ0+A7t1ljO2HHwKvv54xMWaIXbuAdu2AyEiZzz53rpRUSKnqNlE6aNZy4+rqiqpVqyIsLMx4zGAwICwsDLVq1Ur2PQ8fPkySwDj/twy2svvlNomIUjd9uoynzZdPth2CUjKepkEDSWzKlAH275fKn0xsyEY0XcRv8ODBCA4ORrVq1VCjRg2EhIQgNjYWnTt3BgB07NgRRYoUwaRJkwAALVu2xIwZM1ClShXUrFkT586dw+jRo9GyZUtjkkNElBlduAAkDA+cORMoUEDTcKwjOlpaZ0JDZf/994H584FcubSNixyepslN27ZtcfPmTYwZMwbXrl1D5cqVsWnTJuMg40uXLpm01IwaNQo6nQ6jRo1CZGQkChQogJYtW+KLL77Q6kcgIrKKQYNkNnSDBsAHH2gdjRUcPQq8+y5w7pzMYw8JkSnfbK2hDKBTWaw/JyYmBl5eXoiOjoanp6fW4RCRgzNnzM2mTcAbb0gZpSNHgJdfztAQre+HH4CePYFHj4CiRaVGVPXqWkdFmVxavr8z1WwpIiJHExcH9Osn2/37Z/LE5skT+WE6dpTEplkzmQ3FxIYyGJMbIiINTZ8uPTcFCwJjx2odTTpcuwY0aiSzoABgzBhg/XoZHU2UwVgVnIhIIxcvAhMmyPa0aUCm7Snft0/G11y9Kj/Ejz8CLVtqHRVlYWy5ISLSyODB0nsTECATiTKlxYuBevUksSlfHvjzTyY2pDkmN0RENqTXJ27v2JG4v2WLzJB2dpaenEw3iejJE6BvX1l18MkTabnZt0/WsSHSGJMbIiIbCQ2VxowEzZsD/v7A//4HDBwox/r0ASpW1CK6dLh5E2jSBJg3T/YnTJAfiuvXkJ3gVHAiIhsIDQVat5YFep+l0yUey5tXBhPnyZPx8Vns77+BVq1kwFCuXDK+5q23tI6KsoC0fH9zQDERkZXp9cCAAUkTG8D02JgxmSyxWbMG6NABePgQKFkSWLfOtGmKyE6wW4qIyMp27gSuXHnxeZqtaRMbK01IOp1sv4hSwKRJwDvvSGITGCjly5nYkJ1ickNEZGVRUeadd/OmbeOwisePZVG+Tz+V/b59gY0bpU+NyE6xW4qIyMoKFbLueZq5fl1aa/bulWlds2cDH32kdVREL8TkhojIygICAF9fIDIy+XE3Op28HhCQ8bGZ7fhxoEULKVeeO7fMhgoM1DoqIrOwW4qIyMqcnYFZs2Q7pfVrQkLkPLu0ZQtQu7YkNiVLyvo1TGwoE2FyQ0RkA0FBUgy7cGHT44ULy/GgIG3ieqFFi6REeUyMNC3t2weULat1VERpwuSGiMhGgoKAI0cS9zt2BC5dstPExmAAhg4FevSQuewffCAtOPnzax0ZUZpxzA0RkQ19913i9tSpdtoV9eiRZF6rVsn+Z58Bo0ZlwpoQRILJDRGRjdy/D0yenLifI4d2sZh4tuDVr7/KLKi9ewFXV2DJkkxcxZNIMLkhIrKR6dOBW7e0juI5oaFA//6J++3by3P27MCGDUD9+trERWRFTG6IiGzg+nVg2jSto3hOSgWvAOmaun0742MisgEOKCYisoHPPpPKBlWrah3Jf1IreJVg4EDTLiuiTIrJDRGRlZ09CyxcKNsTJmgbi9GLCl4pBVy+LOcRZXJMboiIrGzMGODpU1kuxm5WIb561bzzzC2MRWTHOOaGiMiKjh4FVqyQ7YkTZYZUaj1BGeLpU2DZMvPOtfuCV0QvxpYbIiIrGjtWnt97D6hcWdNQxMOHsmrghg2pn6fTAX5+dtTURGQ5JjdERFby11/AmjWAkxMwbpzW0QC4exdo0kTWsnF3B4YNkyTm+cX5EvbtuuAVkfmY3BARWcno0fL8wQdAuXLaxoLISKBePWD3bqnqvXmzrCiYXMErX187L3hFlDY6pTTvDc5QMTEx8PLyQnR0NDw9PbUOh4gcxK5d0qOTLRtw6pQU09bM6dPSYnPpkiQymzYBFSokvh4TA3h5yfaGDXIuW2zIzqXl+5stN0RE6aQUMHKkbHfponFic+gQULeuJDZlykjLzbOJDWCayNSrx8SGHA6TGyKidAoLA3bskNJMo0ZpGEh4ONCggdR8qFpVmpP8/TUMiEgbTG6IiNJBqcSEplcvmXCkiXXrgGbNpFpnw4bA1q1AgQIaBUOkLSY3RETpsHEjsH8/4OEBjBihURDffy+DgePigFatZBwNxxRSFsbkhojIQkoB48fLdp8+QMGCGgQxZw4QHCw1oTp1kllP7u4aBEJkP5jcEBFZaNMm4MABabUZMiSDb66UFK7q31/2Bw4EvvlGpmsRZXFMboiILPBsq81HHwE+Phl886FDExfWGTcOmDFDVg8kItaWIiKyxObNiWNtPvkkA2+s10s2lVB2fMYMYNCgtF3DLgpeEdkOkxsiojR6ttWmV68MbLV58kTG1/z0k5RMWLQI6No1g25OlHkwuSEiSqMtW4C9e2Xc7tChGXTTuDigbVtg7VoZV/Pjj7JPREkwuSEiSoPnW20yZIZUQmXv338H3NxkRlSLFhlwY6LMickNEVEahIUBe/ZkYKvN/ftAy5bA9u1A9uyyWF/jxhlwY6LMi8kNEVEafPaZPPfsCRQqZOOb3bsHvPEGsG+fLMq3fr3UjSKiVDG5ISIy044dwM6dUkPK5jOkbt8GXn8dOHwYyJtXuqSqVbPxTYkcA5MbIiIzffGFPHfpAhQpYsMb3bgBBAYCx45Jfag//gAqVrThDYkcC1d8IiIyw59/yto2zs5pHGsTGyvTtnU62X6RqCip7H3smPR7bd/OxIYojdhyQ0RkhoRWmw8+AIoXt9FNrlwBGjUCzp4FfH2lsnfp0ja6GZHjYnJDRPQCx47J8jI6nQ0rf1+8CDRsCEREAP7+ktjYLIsicmxMboiIXmDiRHlu3RooW9YGN4iIkMTm4kWgZElg2zbAz88GNyLKGjjmhogoFWfOACtXyvbIkTa4wblzQP36ktiUKSNjbJjYEKULkxsiolRMniyrErdoAVSqZOWLnzkjg4cvXwZeegkID7fxNCyirIHJDRFRCi5eBH74Qbat3mpz6pQkNpGRQPny0hVl81UBibIGjrkhIkrB9OnA06cygem116x44VOnZIzNtWvAK69ITQdvbyvegChrY8sNEVEybt4EFi+WbavOkDp5Ulpsrl0DKlSQWVFMbIisiskNEVEyZs8GHj2SigfpqlOp1ydu//ijJDbXr8vCfFu3ygrERGRVTG6IiJ5z/z4wd65sDx8u69tYJDRUxtMk6NVLSisUKyZdUfnzpztWIkqKyQ0R0XMWLpSC3GXKAG+/beFFQkNlYZzIyKSvXbokVTiJyCaY3BARPSMuDpgxQ7aHDpVaUmmm1wMDBsgc8pQMHGjaZUVEVpPm2VIGgwHbt2/Hzp07cfHiRTx8+BAFChRAlSpVEBgYCD8uPkVEWoiNBXLmlO0HD4AcOSy6zA8/AFevynIzH3xgYSw7d0qdqJQoJWvb7NwpY3CIyKrMbrl59OgRJkyYAD8/PzRv3hwbN27EvXv34OzsjHPnzmHs2LEoXrw4mjdvjn379pkdwLx58+Dv7w93d3fUrFkTBw4cSPX8e/fuoU+fPihUqBDc3NxQpkwZbNiwwez7ERGlRK8HvvxStgcPBtzcLLxQVJR1zyOiNDG75aZMmTKoVasWFi1ahNdffx0uLi5Jzrl48SKWL1+Odu3aYeTIkejevXuq11y5ciUGDx6M+fPno2bNmggJCUHTpk1x+vRpeCczNTI+Ph6vv/46vL29sWrVKhQpUgQXL15E7ty5zf0xiIhStHq1FOTOkwd4wZ+v1Jnb3cRF+4hsQqdUap3CiU6ePIly5cqZddEnT57g0qVLKFmyZKrn1axZE9WrV8fc/6YlGAwG+Pn5oV+/fhg+fHiS8+fPn4+pU6fi1KlTySZX5oiJiYGXlxeio6Ph6elp0TWIyA6ls1tKKaB6deDgQWDMGGD8eAvjOH8eqFdP+rZSotMBvr5SMNOiQT1EWU9avr/N7pYyN7EBABcXlxcmNvHx8Th48CACAwMTg3FyQmBgIPbu3Zvse9atW4datWqhT58+8PHxwSuvvIKJEydCn8q/kuLi4hATE2PyICJ63rZtkth4eAB9+1p4kYTq3levSvKi0yWdR56wHxLCxIbIRszuljp69KjZF61YseILz7l16xb0ej18fHxMjvv4+ODUqVPJvufff//F1q1b0aFDB2zYsAHnzp3DRx99hCdPnmDs2LHJvmfSpEkYb/E/wYgoq0gYa9Oli4Xr6l28KHUaLl8GypaVIph79gD9+5tOB/f1lcQmKMgKURNRcsxObipXrgydTgelFHQvWNEqtZaU9DAYDPD29sbChQvh7OyMqlWrIjIyElOnTk0xuRkxYgQGDx5s3I+JieGMLiIycfQo8PvvgJOTDCROs8uXJbG5cAEoXVpWHi5YUBKYwEDAy0vO27ABaNKELTZENmZ2chMREWHcPnz4MIYMGYJPPvkEtWrVAgDs3bsX06dPx5cJ//x5gfz588PZ2RnXr183OX79+nUULFgw2fcUKlQILi4ucH7mD0O5cuVw7do1xMfHw9XVNcl73Nzc4GbxlAciygqmTpXnNm2AEiXS+ObISEls/v1X3rx1K1C4cOLrzyYy9eoxsSHKAGYnN8WKFTNut2nTBrNnz0bz5s2NxypWrAg/Pz+MHj0ab5uxpKerqyuqVq2KsLAw4/kGgwFhYWHom0KHd506dbB8+XIYDAY4OclwoTNnzqBQoULJJjZERC9y8SLw00+y/cknaXzztWtSeOrcOcDfXwbu+PpaO0QiSiOLVig+duwYihcvnuR48eLFceLECbOvM3jwYCxatAjfffcdTp48id69eyM2NhadO3cGAHTs2BEjninH27t3b9y5cwcDBgzAmTNnsH79ekycOBF9+vSx5McgIkJIiMzcbtQIqFo1DW+8eVO6nE6fBvz8JLEpWtRWYRJRGqR5hWJAuoImTZqExYsXG1tM4uPjMWnSpDTNqmrbti1u3ryJMWPG4Nq1a6hcuTI2bdpkHGR86dIlYwsNAPj5+eH333/HoEGDULFiRRQpUgQDBgzAsGHDLPkxiMiRPDvWb8cOs8a23L0LLFok20OHpuFed+4Ar78OHD8uXVBbt0rLDRHZBbPXuXnWgQMH0LJlSyiljDOjjh49Cp1Oh19//RU1atSweqDWwnVuiBxQaGjys5JmzUp1VtLEicDIkUDFisCRI2ZW/753T1psDh4EfHyA7dtldlRKrFQWgiirS8v3t0XJDQDExsZi2bJlxmnb5cqVw/vvv48cdv4/LpMbIgeTUH37+T9lCZnKqlXJJjiPHwPFigE3bgA//gh06GDGve7flxahfftkvnh4OFC+fOrvYXJDZBU2TW6ePHmCl156Cb/99luauqDsBZMbIgei10t3UEpFKlNZCXjRIqBHDxkmc+4c8MJFz2NjgTfekGKXefPKGBsz1vRickNkHTZZoTiBi4sLHj9+bHFwRERWk5bq288wGIDp02V74EAzEptHj4BWreQ6Xl7A5s3mJTaAJDNKyYOJDVGGsGi2VJ8+fTBlyhQ8ffrU2vEQEZnPwurbv/0mk5y8vIBu3V7w3rg44N13gbAwaYHZuDGN06qIKKNZNFvqzz//RFhYGDZv3owKFSokGWcTGhpqleCIiFJlblXt586bNk2ee/UCcuVK5X1PngBt20pC4+EBrF8P/LdwKRHZL4uSm9y5c+Pdd9+1dixERGkTECBjaiIjkw4oBhLH3AQEGA/t3y+9Sy4uMsEqRXo98OGHwNq1gJsbsG6drDBMRHbPouRmyZIl1o6DiCjtnJ1lunfr1pLIPJvgpFB9O2GsTYcOplUSTBgMQNeuwMqVkgX98otM/yaiTMGiMTdERHYjKEimez+fqfj6JpkG/u+/kqcAwMcfp3A9pYA+fYDvvpOkaMUK4M03bRM7EdmERS03ALBq1Sr8/PPPuHTpEuLj401eO3ToULoDIyIym5nVt2fOlEaZZs2AV15J5jpKSdYzf760/Hz/faqLABKRfbKo5Wb27Nno3LkzfHx8cPjwYdSoUQP58uXDv//+izfeeMPaMRIRvdgLqm/fvg18+61sDxmSwjVGj5YMCAAWLwbef9/6cRKRzVmU3Hz11VdYuHAh5syZA1dXVwwdOhRbtmxB//79ER0dbe0YiYjSbf584OFDoHJlKZKZxMSJwBdfyPbcuUCXLhkZHhFZkUXJzaVLl1C7dm0AgIeHB+7fvw8A+PDDD/HTTz9ZLzoiIit4/BiYM0e2P/kkmRpSISFSZAoApk6VMTdElGlZlNwULFgQd+7cAQAULVoU+/btAwBERETAwlJVREQ2s2wZcP26jDFu0+a5FxcsAAYNku3x41PpsyKizMKi5KZRo0ZYt24dAKBz584YNGgQXn/9dbRt2xbvvPOOVQMkIkoPpYAZM2R7wIDnSi388APQu7dsDx0qY26IKNOzqCq4wWCAwWBAtmwy2WrFihXYs2cPSpcujZ49e8LV1dXqgVoLC2cSOagUClRu3Ag0by4rEV++nDihCqtWyerDBgPQty8we3Yy/VVEZC/S8v1t0VRwJycnODklNvq0a9cO7dq1s+RSREQ2lbBoX/fuzyQ269cD7dtLYtO5sywEyMSGyGFYlNzUq1cPDRo0QP369VGnTh24u7tbOy4ionQ7ckTqXTo7S5cUAGDrVimE+fQp0K4dsGgR4MT1TIkciUX/Rzdp0gT79u1Dq1atkDt3btStWxejRo3Cli1b8PDhQ2vHSET0YjlyyAAbpYxdUgmtNm3aAEWLAtizB3jrLan03aqVLNL33Ho4RJT5WTTmJsHTp0/x559/Yvv27QgPD8fWrVvh5OSEx48fWzNGq+KYG6Ks4coVoHhxaaD580+gmtMhoGFDICZGVi9et04KYhJRpmDzMTcJ/v33Xxw7dgx///03jh49ily5cqEeq+YSkR2YM0cSm/r1gWoex4H6TSSxCQgAVq9mYkPkwCxKbt5//31s374dcXFxqFevHurXr4/hw4ejYsWK0HFQHhFp7P59Wb4GAEa3Pyd1p27fBqpXB377DcieXdsAicimLEpuVqxYgfz586Nbt25o1KgR6tati+z8Y0FEduLbb4HoaKBhiYtoNLExcO0aULEisGkTwO5oIodn0YDi27dvY/HixYiPj8eIESOQP39+1K5dG59++ik2b95s7RiJiMz29KlUUyiIKKy+HwjdpUtA2bLA5s1A3rxah0dEGSBdA4oTnDt3DhMmTMCyZctgMBig1+utEZtNcEAxkWP73/+A3u/dwk7nBiinPw74+wM7d0rtBSLKtGw+oPj27dvGGVLh4eE4ceIEcufOjZYtW6J+/foWBU1ElF5KAfOnRON3NJXEpnBhWeiGiQ1RlmJRcuPt7Y38+fMjICAA3bt3R4MGDVChQgVrx0ZElCb7wmLx2cHmqIpDMOQrAKc//gBKlNA6LCLKYBYlN0ePHsXLL79s7ViIiCz3+DGyv98KlbAHsa65keOPzUC5clpHRUQasGhAcb9+/XDv3r0kx2NiYtCoUaP0xkRElDZPniC2eRtUuhmG+8iJG0s3ApUrax0VEWnEouQmPDwc8fHxSY4/fvwYO3fuTHdQRERm0+uBDz9Ejm2/4RHcMaHGryje/jWtoyIiDaWpW+ro0aPG7RMnTuDatWvGfb1ej02bNqFIkSLWi46IKDUGA9CtG7ByJeLhgiCEYsjEBlpHRUQaS1NyU7lyZeh0Ouh0umS7nzw8PDBnzhyrBUdElCKlpNT30qUwODmjnWEFoiq9AfaME1GakpuIiAgopVCiRAkcOHAABQoUML7m6uoKb29vOLPCLhHZmlLAiBHA3LlQOh3651qK1dFB+P5jgBVgiChNyU2xYsUAAAaDwSbBEBGZ5YsvgClTAAD7On6Ned99gMKFgbZtNY6LiOyCxVXBz549i23btuHGjRtJkp0xY8akOzAiomSFhACjRwMA1PQZ6Lm0JwCgf3/A1VXDuIjIbliU3CxatAi9e/dG/vz5UbBgQZNK4DqdjskNEdnGwoXAoEGyPX48/qgwCMeOATlyAD16aBsaEdkPi5KbCRMm4IsvvsCwYcOsHQ8RUfJ+/BHo1Uu2hw4FRo/GtGay27UrkCePdqERkX2xaJ2bu3fvok2bNtaOhYgoeb/8AgQHy0DiPn2AyZNx7B8dNm8GnJyAgQO1DpCI7IlFyU2bNm2wefNma8dCRJTUhg1A+/aypk2nTsDs2YBOhxkz5OWgIKB4cU0jJCI7Y3a31OzZs43bpUqVwujRo7Fv3z5UqFABLi4uJuf279/fehESUda1bRvw7rvAkycyFWrxYsDJCVFRwLJlcsqQIdqGSET2R6eUUuacWNzMfxrpdDr8+++/6QrKlmJiYuDl5YXo6Gh4enpqHQ4RpWTPHqBJEyA2FmjZUrqm/vuH1MiRwMSJQJ06wK5dGsdJRBkiLd/fZrfcREREpDswIiKzHDwIvPGGJDavvw78/LMxsYmNBb7+Wk77+GMNYyQiu2XRmBsiIpv55x9psYmJAQICgDVrAHd348tLlgB37wIlSwJvvaVdmERkvyyaCj548OBkj+t0Ori7u6NUqVJo1aoV8ubNm67giCiLOXMGCAwE7twBatQAfvsNyJ7d+LJeD8ycKduDBgGs9kJEyTF7zM2zGjZsiEOHDkGv16Ns2bIAgDNnzsDZ2RkvvfQSTp8+DZ1Oh127dqF8+fJWDzo9OOaGyE5FRAD16gFXrgCVKgFbtwLP/QNp1SqgTRsgXz7g0iWTvIeIHFxavr8t6pZq1aoVAgMDcfXqVRw8eBAHDx7ElStX8Prrr6N9+/aIjIxEvXr1MChhJVEiotRcuQI0bizP5coBmzcnSWyUAqZOle2PPmJiQ0Qps6jlpkiRItiyZUuSVpnjx4+jSZMmiIyMxKFDh9CkSRPcunXLasFaA1tuiOzMtWtA/frSJVWyJLBjB1C4cJLTdu2SIThubsDFi4CPjwaxEpFmbN5yEx0djRs3biQ5fvPmTcTExAAAcufOjfj4eEsuT0RZxa1bMsbmzBmgaFHpikomsQGAadPkuWNHJjZElDqLu6W6dOmC1atX48qVK7hy5QpWr16Nrl274u233wYAHDhwAGXKlLFmrETkSO7dk1lRx49LQrN1qyQ4yTh9Gli3TrZTmM9ARGRk0WypBQsWYNCgQWjXrh2ePn0qF8qWDcHBwZj531SGl156CYsXL7ZepETkOGJigGbNgMOHgQIFgLAw6ZJKwcyZMuamZUvgpZcyME4iypQsGnOT4MGDB8bViEuUKIGcOXNaLTBb4ZgbIo3Fxkpis2uXDBretg2oWDHF02/cAIoVAx4/luE4AQEZGCsR2Q2brFCcnJw5c6JiKn+UiIhMPHokK+/t2gV4ecmsqBf8DfnqK0lsatQA6tbNoDiJKFMzO7kJCgrC0qVL4enpiaCgoFTPDQ0NTXdgRORg4uKkCObWrUDOnMCmTUDVqqm+5eFDYN482R4yBNDpMiBOIsr0zE5uvLy8oPvvL4uXl5fNAiIiB5RQ1XvjRlmgZsMG4LXXXvi2pUtlQlXx4sA779g+TCJyDGkec6OUwuXLl1GgQAF4eHjYKi6b4Zgbogz29CnQvr0sL+zmBqxfLwv2mfG2smWBf/8F5s4F+vTJgFiJyG7ZdJ0bpRRKlSqFK1euWBwgEWURer0sTLNqFeDqKkUwzUhsACA0VBKbfPmAzp1tGyYROZY0JzdOTk4oXbo0bt++bYt4iMhRGAxA167ATz8B2bJJgtOsmVlvVQr48kvZ7tuXpRaIKG0sWsRv8uTJ+OSTT/DPP/9YJYh58+bB398f7u7uqFmzJg4cOGDW+1asWAGdTmdcOJCI7ITBAPTqBXz3nZTuXrFCFqkxU3g4cPAg4OHB7igiSjuLpoJ37NgRDx8+RKVKleDq6ppk7M2dO3fMvtbKlSsxePBgzJ8/HzVr1kRISAiaNm2K06dPw9vbO8X3XbhwAUOGDEEAF70gsi9KAf36AYsWAU5OwI8/yiypNEhotenSRdb4IyJKC4sW8fvuu+9SfT04ONjsa9WsWRPVq1fH3LlzAQAGgwF+fn7o168fhg8fnux79Ho96tWrhy5dumDnzp24d+8e1qxZY9b9OKCYyApiY2U6NwA8eADkyCHbSgEDBwKzZ8u87aVLZcxNGhw9ClSqJHnR2bNAiRJWjZyIMimbL+KXluQlNfHx8Th48CBGjBhhPObk5ITAwEDs3bs3xfd99tln8Pb2RteuXbFz506rxEJE6aSULEYze7bsf/NNmhMbAJg6VZ7btGFiQ0SWMTu5iY2NRY6Ef51Z6fxbt25Br9fD57kSvz4+Pjh16lSy79m1axe++eYbHDlyxKw44uLiEBcXZ9xPqFpORFakFDB8ODBjhuwvXGjRFKeLF2X8MQB88okV4yOiLMXsAcWlSpXC5MmTERUVleI5Sils2bIFb7zxBmYn/OvNiu7fv48PP/wQixYtQv78+c16z6RJk+Dl5WV8+Pn5WT0uoixNKWD06MSBMl99BXTvbtGlZs6U2eONGr1w8WIiohSZ3XITHh6OTz/9FOPGjUOlSpVQrVo1FC5cGO7u7rh79y5OnDiBvXv3Ilu2bBgxYgR69uz5wmvmz58fzs7OuH79usnx69evo2DBgknOP3/+PC5cuICWz8y6MBgM8oNky4bTp0+j5HOVhUeMGIHBgwcb92NiYpjgEFnT558nJjazZwO9e1t0mdu3ZQwyAAwdmvb3pzQMiIiyHrOTm7Jly+KXX37BpUuX8L///Q87d+7Enj178OjRI+TPnx9VqlTBokWL8MYbb8DZ2dmsa7q6uqJq1aoICwszTuc2GAwICwtD3759k5z/0ksv4dixYybHRo0ahfv372PWrFnJJi1ubm5wc3Mz98ckorRKSGxmzpRZUhaaM0dqSVWpAjRpYqXYiChLSvOA4qJFi+Ljjz/Gxx9/DEC6ogAY606l1eDBgxEcHIxq1aqhRo0aCAkJQWxsLDr/11/fsWNHFClSBJMmTYK7uzteeeUVk/fnzp0bAJIcJ6IMNGOGzJKy0IMHktwAMnSHBTKJKD0sWsQPAL755hu88sorcHd3NyYdixcvTvN12rZti2nTpmHMmDGoXLkyjhw5gk2bNhkHGV+6dCnVcT5EpIFJkxK3v/gCGDQoXZdbvBi4cwcoWTLNS+IQESVh0To3Y8aMwYwZM9CvXz/UqlULALB3717MnTsXgwYNwmeffWb1QK2F69wQpdPnnwNjxiTup3OAS3y8JDVXrgALFgA9elh2HY65IXJsafn+tii5KVCgAGbPno327dubHP/pp5/Qr18/3Lp1K62XzDBMbojSYfx4YNw402MbNsggGTPH2j1vyRJZibhQISAiQgqHW4LJDZFjs2lVcAB48uQJqlWrluR41apV8fTpU0suSUT27tnE5tk/LM2bA/7+UsY7jQwGYMoU2R40yPLEhojoWRYlNx9++CG+/vrrJMcXLlyIDh06pDsoIrIz48aZttg8vxhmZCTQunWaE5y1a4HTpwEvL8CM1SOIiMxiUfkFQAYUb968Ga+99hoAYP/+/bh06RI6duxosq7MjIQVS4ko81FKWmzGj5d9Ly8gOjr583Q6mTHVqpVZXVRKAZMny3afPqaNQURE6WFRcvPPP//g1VdfBSAL6wGyIF/+/Pnxzz//GM+zdHo4EdkBpWTg8IQJst+rFzB/furnX74M7NwJNGjwwstv3QocOAC4uwMDBqQ/XL0+cXvHjnQNAyKiTM6i5Gbbtm3WjoOI7IlSwKefJjatTJ8uI35TS24SmLl0wxdfyHPXroC3t4Vx/ic0FOjfP3G/eXPA1xeYNQsICkrftYko87F4nRsiclBKSf2DhMRm1ixg8GBJbsxhxnl79wLbtgHZsllWauFZoaEy3Ccy0vS4hcOAiMgBMLkhokRKSSIzbZrsz52b2CQSECDNISl1N+t0gJ+fnPcCCa02HTsCRYtaHq5eL11ayS1okXBs4EDTLisicnxMbohIGAySyISEyP78+TLSN4Gzs7TiAFDPJzgJ+yEhLxzocvgwsH494OQkpRbSY+dOWfwvJc8OAyKirIPJDRFJYtOzp7TU6HRSnju5udlBQcCqVVAFC5se9/UFVq0ya4DLxIny3LYtULp0+sI2tzILK7gQZS0WTwUnIgeh18sSwd9/L80pS5ZIf1FKgoLwqFYgchT2AgA8Ct0Aj7fMm5p08iTwyy+y/emn6Q/disOAiMiBsOWGKCt78gT44ANJbJydgeXLU09sEjyTyBjq1DN7zvXkydJV9PbbwCuvWBjzM6w4DIiIHAiTG6KsKj4eaNcOWLECcHEB/vc/6SuykX//BZYtk+2RI61zzWeGASVJcNIwDIiIHAyTG6Ks6NEjaT4JDZWCTqtXA++8Y9Nbfvml9IA1bQokU5rOYv8NA0Jhy4cBEZGD4ZgboqzmwQPgrbdkoRkPD2DNGlnONw30eiAc9RGFQsi92wlN3kq9deTyZeDbb2XbWq02zwoKAgIDpToEkO5C5USUybHlhigriY6WppNt24BcuYDff09zYhMaCpSv6oGGCMf7+AnNgzxeWBR80iQZ3tOwoe3GvzybyNQzfxgQETkgJjdEWcXt20CjRsCePUDu3MAff6Q50zCuBhxlOsAltdWAL18GvvlGtseOtTB2IqI0YHJDlBVERQH16wOHDgEFCgDh4UCNGmm6hOlqwKbJTWqrAU+eLGOX69eXBxGRrTG5IXJ0ERFA3brA8eMy6nb7dqBSpTRfxpLVgK9cARYvlu1x49J8SyIiizC5IXJkJ09K19O//wIlSgC7dgHlyll0KUtWA54yRVpt6tUDGjSw6LZERGnG5IbIUR06JFlFZCRQvrw0qRQvbvHl0roacGQksHChbHOsDRFlJCY3RI5o506ZmnTrliwqs3170oVg0iitqwEntNoEBEgoREQZhckNkaNZv16md8fESMtNWBiQP3+6L5uW1YCvXjVttUkpIbKmHDlk3I9Ssk1EWReTGyJHsmyZrDz8+DHQogWwaRPg6Wm1y5u7GvDEiUBcHFCnjsw+JyLKSExuiBzF3LlSBPPpU3kODZUViK0sKAg4cSJxf8MGmZCVkNhcvJjYavP55xnTakNE9CwmN0SZnVLA+PFAv36y368f8N13UgzTRlJbDfjzz2U14kaNONaGiLTB2lJEmZleL8nM11/L/rhxwJgxmjWXnD0LLF0q2xMmaBICERGTG6JMKy5Oup9WrZJkZs4coE8fTUMaP17yrTffBGrV0jQUIsrCmNwQZUYxMcA77wBbt0r3048/Au+9p2lI//wDLF8u2599pmkoRJTFMbkhymyuXwfeeAM4fBjImRNYswZo3FjrqDB2rAz/efdd4NVXtY6GiLIyJjdEmcnZs0DTpjI9qUABYONGoGpVraPCwYMyOUunk64pIiItcbYUUWaxfz9Qu7YkNiVLAnv22EViAwCjR8tzhw7Ayy9rGwsREZMboszgt99Myyns2QOUKqVZOM+uBvzXX9KA5OzMGlJEZB+Y3BDZu8WLZdXhR49krM22bYC3t9ZRAZDkZtgw2e7RQ9N8i4jIiMkNkb1SChg1CujeXeZXd+4MrF0rg4jtxOrV0luWPbssr0NEZA84oJjIHsXHA127yhRvQAa1jB9vV7UMnj4FRoyQ7Y8/BgoW1DYeIqIETG6I7M3du1KoKTwcyJYNWLAA6NJF66iS+PZb4MwZKTg+ZIjW0RARJWJyQ2RPLl4EmjeXypS5csnqw02aaB1VEg8fSqUHQBqVrFh4nIgo3ZjcENmL/fuBt94CbtwAihQB1q8HKlXSOqpkzZoFREUBxYsDPXtqHQ0RkSkOKCayB6tWAQ0aSGJTqRKwb588x8bKOBudTrbtwO3bwOTJsj1hAuDmpm08RETPY3JDpCWlJFNo0wZ4/Bho0QLYtQvw9dU6shR9/rmUtqpcGWjXTutoiIiSYnJDpJX4eKBbt8QpRwMGSJ0oO5rq/bzTp4F582R76lTAiX9BiMgOccwNkRZu3ZIKkzt2SIYwezbQp4/WUb3QJ5/IFPAWLYDAQK2jISJKHpMboox2/DjQsqXUiPL0BFauBJo10zqqFwoLA379VWanT5umdTRERCljozJRRtqwAahVSxKbEiWAvXszRWKj1wODB8t2795A2bLaxkNElBomN0QZQSlgxgxpsbl/H6hfX6Z+ly+vdWRm+fZb4OhRIE8eFsckIvvH5IbI1h4/BoKDpUaBwSBlFTZvlqV9X0SvT9zescN0P4PExEiJK0DqR+XLl+EhEBGlCZMbIluKjATq1QN++AFwdpaBw4sWAa6uL35vaKhpy07z5oC/vxzPQJMny/I7pUsDH32UobcmIrIIkxsiW9m7F6hWDfjzTyBvXuD334F+/cwrfhkaCrRuLcnRsyIj5XgGJTjnz0tvGiCDiM3JyYiItMbkhsgWFi2SFYevXQNeeUUSnMaNzXuvXi9r3iiV9LWEYwMHZkgX1cCBQFycTPtu2dLmtyMisgomN0TWFBcHdO8O9Oghi/QFBUkLTokS5l9j507gypWUX1cKuHxZzrOh336Th4sLMGeOeQ1ORET2gMkNkbVcuSKzoBYvlkxg4kSpGZXWFYejoqx7ngUeP5bGIwAYNAh46SWb3YqIyOq4iB+RNWzfDrz3noy8zZMH+OknoGlTy65VqJB1z7PAl18C//4rxclHj7bZbYiIbIItN0TpoZQUWWrcOLGi919/WZ7YAEBAgBTOTKkfSKcD/PzkPBuIiAAmTZLt6dPtutQVEVGymNwQWSo6WsbUDB0qg3s/+ADYsydt42uS4+wMzJol288nOAn7ISFyng0MHCjdUo0aSWMUEVFmw+SGyBJ//y3TvNeskfnRX38NfP89kD27da4fFCTjdQoXNj3u6yvHg4Ksc5/nbNgArFsn9aM4iJiIMiu7SG7mzZsHf39/uLu7o2bNmjhw4ECK5y5atAgBAQHIkycP8uTJg8DAwFTPJ7IqpYBvvgFeew04dw4oWhTYtQvo1cv6mUBQEHDiROL+hg3SZ2SjxCY2NrEw+YABmaYyBBFREponNytXrsTgwYMxduxYHDp0CJUqVULTpk1x48aNZM8PDw9H+/btsW3bNuzduxd+fn5o0qQJIp9f7IzI2h48ADp2BLp1k36bZs2AQ4eA6tVtd89nu57q1bNZVxQgNaMuXJB8bdw4m92GiMjmdEolt1JYxqlZsyaqV6+OuXPnAgAMBgP8/PzQr18/DB8+/IXv1+v1yJMnD+bOnYuOHTu+8PyYmBh4eXkhOjoanp6e6Y6fsohjx2QAyqlTkmBMmCBjbZxs/O+D2NjEEb0PHgA5ctjkNgcPAjVqSOmr9eul0gMRkT1Jy/e3pi038fHxOHjwIAIDA43HnJycEBgYiL1795p1jYcPH+LJkyfImzevrcKkrEwpWbemRg1JbIoUAbZtA4YPt31ik0GePpV1Bw0GoF07JjZElPlpus7NrVu3oNfr4ePjY3Lcx8cHp06dMusaw4YNQ+HChU0SpGfFxcUhLi7OuB8TE2N5wJS13LsH9OwJ/Pyz7DdrJoOGCxTQNCxrCwkBDh+W5XlCQrSOhogo/TL1Pz0nT56MFStWYPXq1XB3d0/2nEmTJsHLy8v48PPzy+AoKVPasweoXFkSm2zZpDT2+vUOl9hERABjxsj2tGnAc//OICLKlDRNbvLnzw9nZ2dcv37d5Pj169dRsGDBVN87bdo0TJ48GZs3b0bFihVTPG/EiBGIjo42Pi5fvmyV2MlB6fXAF1/I4N2LF2XNmt27gWHDHKYbKoFSQO/ewKNHUuOzc2etIyIisg5N/1q7urqiatWqCAsLMx4zGAwICwtDrVq1Unzfl19+ic8//xybNm1CtWrVUr2Hm5sbPD09TR5Eybp4EWjYEBg1SpKc9u2lv6ZGDe1iypFDshClrD6YeMkS4PffATc3YOFCrmlDRI5D89pSgwcPRnBwMKpVq4YaNWogJCQEsbGx6PzfPyM7duyIIkWKYNJ/68FPmTIFY8aMwfLly+Hv749r164BAHLmzImcXCeeLLVsGfDRR0BMjMxOmjMHCA522G/8ixdlJWIA+OwzoHRpTcMhIrIqzZObtm3b4ubNmxgzZgyuXbuGypUrY9OmTcZBxpcuXYLTM90BX3/9NeLj49G6dWuT64wdOxbjuDgHpdW9e5LU/PST7NeqBfzwA1CypKZh2ZLBAHTpAty/D9SuDXz8sdYRERFZl+br3GQ0rnNDRn/8IQNNrlyRtWvGjgVGjJABxA5s3jygb1/Aw0OqSLDVhogyg7R8fzv2X3Gi5MTGygDhefNkv1Qp4McfgZo1tY0rA5w7J2sPAsCUKUxsiMgxOdb0D6IXSZjinZDY9OkDHDmSJRIbvR7o1Al4+FDGTSfUkSIicjRMbihrePRImiwCAqT5wtcX2LIFmDvXZiUN7M3MmTKrPVcu4NtvHW5mOxGREbulyPHt3i0jaM+ckf0PPwRmzwZy59Y0rIx08CDw6aeyPWMG4O+vaThERDbFf7uR44qNlfnOAQGS2BQuDKxbJyUUMkliExsrs9F1Otm2xP37UjPqyRMgKAjo2tW6MRIR2Ru23JBj+uMPqQv177+y37mzNFlkkqTGmvr2lZ44Pz9g0SKHXbqHiMiILTeU8azRHJGS27dl8b3XX5fExtcX2LhRBplkwcTmxx+locrJCVi+HMibV+uIiIhsj8kNOQal5Nv7pZfk21ynkyaL48elmncWdO6c1I4CZAmfunW1jYeIKKMwuaHM79w5SWA6dABu3QJeflkGEc+ZA2TyhRr1+sTtHTtM91MTHy+lsR48kBqgI0faJj4iInvE5IYyr7g4KYz0yivA5s1SAfLzz4FDh6SMQiYXGgqUL5+437y5zHIKDX3xewcNAv76S7qhli2TBZiJiLIKJjeU8SxtjnjWH38AFSpIf0tcnIyxOXZMKnq7ulovVo2EhgKtWwORkabHIyPleGoJztKlwFdfSc/c99/LsCMioqyEyQ1lrPQ0RwDApUtAmzaSzJw9CxQsCKxYAfz+u8PUEtDrgQEDZBjR8xKODRyYfE546BDQq5dsjxsHvPmmraIkIrJfTG4o46SnOeLxY2DCBBkwvGqVTP/p1w84dQpo29ah5jfv3Cm1PFOiFHD5spz3rNu3ZR2buDigRQtpxCIiyoqY3FDGsLQ5Qilg7VoZJDx6tJRRqFcPOHxYVhn28rJ56BktKirt5+n1MoD44kWgZEnghx9YXoGIsi7++aOMYUlzxNGjQGAg8PbbsmZN4cIy3Ts8HKhY0dYRa6ZQobSfN2qUlMrKnh1YvTpLLulDRGTE5IYyRlqaI27ckNWFq1QBtm6VWVAjRgCnT0vzhAN1QSUnIEAGAaf0Y+p0stpwQIDsL10KTJ4s2998I+OsiYiyMiY3lDHMbY4ICwNKlQIWLgQMBuC992RczcSJQM6cto3RTjg7A7NmyfbzCU7CfkiInBceDvToIcdGjpQaUkREWR2TG8oYL2qOAGSQyDffSKXHV1+VaeIrV2bJEtZBQTJuunBh0+O+vnI8KEgasoKCpCBm27ay5A8RETG5oYySWnNEAoMBKFZMVp3788/EfpcsKigIOHEicX/DBiAiQo7fuiXTvO/elfUKly7lAGIiogT8c0gZJ6XmCADIkQOYPl26oN5/n9/U/3l2ZeF69WT/8WMZY33+PFC8uEwmc3fXLEQiIrvDbxDKWP7+QNmyifsuLsDHH8tMqcGD+S39Ak+fypjq3btlFvz69UCBAlpHRURkX7JpHQBlEX//LUvmrlljevzECRlATC9kMABdu8pH6OYmz+XKaR0VEZH9YcsN2dbRo8C77wKVK8u3sU4no18TmDuLKovKkUOWADIYZDbU999L19T//gc0aKB1dERE9onJDdnG4cNSUqFSJSmroNPJPOXjx2VGFKXJuHHAnDmyvXQp0LKlltEQEdk3dkuRde3ZIzWgNm6UfZ1OCl2OGSMlFAAgNla7+DKhmTMTp3nPnQt88IG28RAR2TsmN5R+SgGbN8syueHhcszJSVpqPv00MalJkNDXQi80bRrwySeyPWEC0KePtvEQEWUGTG7Ick+eAD//DHz5pYytAWT2U3AwMGwYBwqn0xdfJFb2HjlS8kQiInoxJjfWEhubWB7gwQNpnXBUMTHAt99Kf8mlS3IsRw6pAzBokBQ+IospBYwdC3z+uex/9pkURCciIvMwuSHzRUQAs2cnlkgAAG9vYMAAoHdvIE8ebeNzAEoBw4dLYxgATJkCDB2qbUxERJkNkxtKnVLA9u2S1KxdK3OSAVlgZeBAoGNHLrxnJU+fAn37AgsWyP7MmfIRExFR2jC5sRa9PnF7xw6gSRPTtfMzm/v3gR9/BObNk+nbCZo2lW/cJk1YIsGKYmNl/PVvv8kEs3nzpDGMiIjSjt9O1hAaCpQvn7jfvLmUGQgN1Swkix07BvTrBxQpAnz0kSQ2OXIAPXvK9qZNQLNmTGys6Pp1WZDvt9+kEeyXX5jYEBGlB1tu0is0VBare35qc2SkHF+1SgpG2rOHD2XW08KFwN69icfLlJG5x8HBUsiIrO70aeCNN2Q4U758wK+/SpVvIiKynE6prLXgSExMDLy8vBAdHQ1PT8/0XUyvlxaaK1eSf12nA3x95ZvL3rqolAL+/BNYsgRYvlxmQAFAtmxScrpHD6BxY7bQ2NCmTVIA/e5doEQJWfewTBmtoyIisk9p+f5my0167NyZcmIDSAJx+bKcZy+FgK5fB374QZKaEycSj5coIQlNp06Aj49m4WUFBoOsdzhqlPyK1KwJrFsnE8+IiCj9mNykR1SUdc+zlYcPpWjljz/KSsIJg5/d3aWoZefOQMOGbKXJADEx0suXUBy9e3epGeXmpmlYREQOhclNephb0VqLytdPngBbt0qXU2ioLCyYoGZNoEsXqc7NsTQZ5vhxGYZ16hTg6ip1orp31zoqIiLHw+QmPQICZExNZGTytZISxtwEBGRMPHq9dIGtWCFTbm7dSnytRAmpuNihAwd2ZDClZGr3J58Ajx/LRLRffpEck4iIrI/JTXo4OwOzZsk/x3U60wRHp5PnkBDbDiZ++lTW1fnlF2mhuXYt8bX8+aUi9wcfyBSchJgow1y7Jo1kCUXSmzUDli7lsCYiIlticpNeQUEy3bt/f2nBSeDrK4mNLaaBP34sXU6hoTJ44/btxNdy55Z7tmsn42iy8T+xVtatA7p2lQY0Nzdg6lRZgZg5JhGRbfGbzxqCgoDAwMTxKxs2WH+F4lu3gPXrpQTC5s2ypG2CfPmAVq1kcHDjxhydqrFr16Tc1s8/y37FijL06eWXtY2LiCirYHJjLc8mMvXqpT+xUQo4ckQSpQ0bgH37Eus6ATJw4623JKGpX58tNHbAYAAWLQKGDQOio2Xy2eDBwIQJzDeJiDISvxGtJUeO5AcVp8WtW0BYGPD777LC2/NTyCtXloTmrbeAV19l/4YdOXpUqlXs3i37VavKgs+vvqptXEREWRGTGy09eiTlDsLCpKvp4EHTBClHDunuat5c1uj389MuVkrW1avAmDGyJqLBIP/JvvhCxtbY26LURERZBZObjBQXJyUPtm2TAcF798qxZ1WsKON1mjSR7i32Z9il2Fhg2jTgyy9ljURAJs1Nnw4ULaptbEREWR2TG1t68ADYv1+mau/YIeNmHj82PadwYaBRI0lmAgO1WfCPzPbwoXQ3ffllYq/ha69JUlO7traxERGRYHJjTZcuAXv2yMCLPXuAv/9OLHWQoEABGQDcuLEkNaVLc+xMJvDgAfDVV5LE3Lghx4oXlxpRbdrwPyERkT1hcmMtq1cnv6aNr690L9WvL89ly/KbMBOJigIWLJBSCQnLCfn7AyNGSI0o9hoSEdkfJjfWUr26jCCtUkX6JxIeHASc6SglvYlz5gD/+5+U6QKkke3TT6WChYuLtjESEVHKmNxYi6+vlHzOnl3rSMhCd+9KWa5vvwX++ivxeJ06QL9+MmCYM6CIiOwfkxtrYmKT6Tx5IssKffedlEuIj5fjbm5A+/aS1HCtGiKizIXJDWU5jx8Df/whpbnWrgXu3El8rWJFGUvz4Ycy9puIiDIfJjeUJURFyTqJGzdKia4HDxJf8/YG3n9fkprKlTULkYiIrITJDTmkmBiZjZ9QzeLYMdPXixSRyW1BQUDduizNRUTkSPgnnTKcXg/s3CmtKYUKAQEB6RuoqxQQESGLP+/aJY+jR03rjOp0Uu+pSRMpzVW9uhS2JCIix8PkhjJUaCgwYABw5UriMV9fYNas5JcJel58PHDmDHD8OHD4sMxqOnRIZjo9r2RJWVooYfHn/Pmt93MQEZH9YnJjJdZujXBEoaEynfr54umRkXJ81SpJcJSSVYDPnUt8nD4tCc2ZM8DTp0mv7eoKVKgg07br1pXnwoUz5uciIiL7YhfJzbx58zB16lRcu3YNlSpVwpw5c1CjRo0Uz//f//6H0aNH48KFCyhdujSmTJmC5s2bZ2DEptLbGpEV6PXyGT2f2ACJxzp0kJIGly5JYcqU5MoFvPyyzGyqVk26m155RRIcIiIizZOblStXYvDgwZg/fz5q1qyJkJAQNG3aFKdPn4a3t3eS8/fs2YP27dtj0qRJaNGiBZYvX463334bhw4dwiuvvJLh8ZvbGuFI9HpJPu7fl4G7Cc/R0cC9e9JFlPC4fRu4eRO4cME0+UvO48fAyZOyrdNJde1SpeRRurQkNC+/LIkjK1gQEVFKdEol92/pjFOzZk1Ur14dc+fOBQAYDAb4+fmhX79+GD58eJLz27Zti9jYWPz222/GY6+99hoqV66M+fPnv/B+MTEx8PLyQnR0NDw9PdMVu14vdYZS+tLW6QAfH5mt4+wsCVBqD4Mh6X7CQym537PH9HrTh8EgXTZ6venzkyeJzwmP+HjTR1ycJBdxcYnbDx8Cjx4lPmJj5REXl66PLVUJNZv8/Vm3iYiIEqXl+1vTlpv4+HgcPHgQI0aMMB5zcnJCYGAg9u7dm+x79u7di8GDB5sca9q0KdasWZPs+XFxcYh75ts4JiYm/YH/Z+fO1FsjlAKuXQMqVbLaLe2KszPg6Wn6yJ0byJMn8ZE3ryyGd/Uq8MknL75mkyZSW5SIiMhSmiY3t27dgl6vh4+Pj8lxHx8fnDp1Ktn3XLt2Ldnzr127luz5kyZNwvjx460T8HOiosw7L1cuwN1dtnW6lB9OTkn3Ex4J+87OqT9ny5b4cHaWZxcX02dX18SHi4s8u7lJjG5u8vDwSPrIkSPxkTOnnGdu95BeL2OQIiOTH3ej00l3U0CAedcjIiJKieZjbmxtxIgRJi09MTEx8LNSpe5Chcw7b906oEEDq9wy03J2luSmdWtJZJ5NcBISpJAQzjAjIqL003QZs/z588PZ2RnXr183OX79+nUULFgw2fcULFgwTee7ubnB09PT5GEtAQGpD27V6QA/P7ZGJAgKkgHWRYqYHvf1dcyB10REpA1NkxtXV1dUrVoVYWFhxmMGgwFhYWGoVatWsu+pVauWyfkAsGXLlhTPt6WE1gggaYLD1ojkBQXJzKlt24Dly+U5IoKJDRERWY/m3VKDBw9GcHAwqlWrhho1aiAkJASxsbHo3LkzAKBjx44oUqQIJk2aBAAYMGAA6tevj+nTp+PNN9/EihUr8Ndff2HhwoWaxJ/QGpHcOjchIfzSTo6zM7vpiIjIdjRPbtq2bYubN29izJgxuHbtGipXroxNmzYZBw1funQJTs8UAapduzaWL1+OUaNG4dNPP0Xp0qWxZs0aTda4SRAUBLRqxRWKiYiI7IHm69xkNGuuc0NEREQZIy3f36yLTERERA6FyQ0RERE5FCY3RERE5FCY3BAREZFDYXJDREREDoXJDRERETkUJjdERETkUJjcEBERkUNhckNEREQORfPyCxktYUHmmJgYjSMhIiIicyV8b5tTWCHLJTf3798HAPj5+WkcCREREaXV/fv34eXlleo5Wa62lMFgwNWrV5ErVy7odDqrXjsmJgZ+fn64fPky61a9AD8r8/GzMh8/K/Pxs0obfl7ms9VnpZTC/fv3UbhwYZOC2snJci03Tk5O8PX1tek9PD09+ctvJn5W5uNnZT5+VubjZ5U2/LzMZ4vP6kUtNgk4oJiIiIgcCpMbIiIicihMbqzIzc0NY8eOhZubm9ah2D1+VubjZ2U+flbm42eVNvy8zGcPn1WWG1BMREREjo0tN0RERORQmNwQERGRQ2FyQ0RERA6FyQ0RERE5FCY3NvLWW2+haNGicHd3R6FChfDhhx/i6tWrWodldy5cuICuXbuiePHi8PDwQMmSJTF27FjEx8drHZpd+uKLL1C7dm1kz54duXPn1jocuzNv3jz4+/vD3d0dNWvWxIEDB7QOyS7t2LEDLVu2ROHChaHT6bBmzRqtQ7JLkyZNQvXq1ZErVy54e3vj7bffxunTp7UOyy59/fXXqFixonHhvlq1amHjxo2axcPkxkYaNmyIn3/+GadPn8Yvv/yC8+fPo3Xr1lqHZXdOnToFg8GABQsW4Pjx45g5cybmz5+PTz/9VOvQ7FJ8fDzatGmD3r17ax2K3Vm5ciUGDx6MsWPH4tChQ6hUqRKaNm2KGzduaB2a3YmNjUWlSpUwb948rUOxa9u3b0efPn2wb98+bNmyBU+ePEGTJk0QGxurdWh2x9fXF5MnT8bBgwfx119/oVGjRmjVqhWOHz+uTUCKMsTatWuVTqdT8fHxWodi97788ktVvHhxrcOwa0uWLFFeXl5ah2FXatSoofr06WPc1+v1qnDhwmrSpEkaRmX/AKjVq1drHUamcOPGDQVAbd++XetQMoU8efKoxYsXa3JvttxkgDt37mDZsmWoXbs2XFxctA7H7kVHRyNv3rxah0GZSHx8PA4ePIjAwEDjMScnJwQGBmLv3r0aRkaOJDo6GgD49+kF9Ho9VqxYgdjYWNSqVUuTGJjc2NCwYcOQI0cO5MuXD5cuXcLatWu1DsnunTt3DnPmzEHPnj21DoUykVu3bkGv18PHx8fkuI+PD65du6ZRVORIDAYDBg4ciDp16uCVV17ROhy7dOzYMeTMmRNubm7o1asXVq9ejfLly2sSC5ObNBg+fDh0Ol2qj1OnThnP/+STT3D48GFs3rwZzs7O6NixI1QWWRA6rZ8VAERGRqJZs2Zo06YNunfvrlHkGc+Sz4qIMlafPn3wzz//YMWKFVqHYrfKli2LI0eOYP/+/ejduzeCg4Nx4sQJTWJh+YU0uHnzJm7fvp3qOSVKlICrq2uS41euXIGfnx/27NmjWTNdRkrrZ3X16lU0aNAAr732GpYuXQonp6yTd1vye7V06VIMHDgQ9+7ds3F0mUN8fDyyZ8+OVatW4e233zYeDw4Oxr1799hqmgqdTofVq1ebfG5kqm/fvli7di127NiB4sWLax1OphEYGIiSJUtiwYIFGX7vbBl+x0ysQIECKFCggEXvNRgMAIC4uDhrhmS30vJZRUZGomHDhqhatSqWLFmSpRIbIH2/VyRcXV1RtWpVhIWFGb+kDQYDwsLC0LdvX22Do0xLKYV+/fph9erVCA8PZ2KTRgaDQbPvPCY3NrB//378+eefqFu3LvLkyYPz589j9OjRKFmyZJZotUmLyMhINGjQAMWKFcO0adNw8+ZN42sFCxbUMDL7dOnSJdy5cweXLl2CXq/HkSNHAAClSpVCzpw5tQ1OY4MHD0ZwcDCqVauGGjVqICQkBLGxsejcubPWodmdBw8e4Ny5c8b9iIgIHDlyBHnz5kXRokU1jMy+9OnTB8uXL8fatWuRK1cu4/gtLy8veHh4aBydfRkxYgTeeOMNFC1aFPfv38fy5csRHh6O33//XZuANJmj5eCOHj2qGjZsqPLmzavc3NyUv7+/6tWrl7py5YrWodmdJUuWKADJPiip4ODgZD+rbdu2aR2aXZgzZ44qWrSocnV1VTVq1FD79u3TOiS7tG3btmR/j4KDg7UOza6k9LdpyZIlWodmd7p06aKKFSumXF1dVYECBVTjxo3V5s2bNYuHY26IiIjIoWStwQ1ERETk8JjcEBERkUNhckNEREQOhckNERERORQmN0RERORQmNwQERGRQ2FyQ0RERA6FyQ0RAQAuXLgAnU5nXPXYlnQ6HdasWWPz+1jKnM8iPDwcOp2O9b2I7BDLLxBlQZ06dcK9e/dMEgw/Pz9ERUUhf/782gVmJ/hZEGVuTG6ICADg7OzMel7/4WdBlLmxW4rIQa1atQoVKlSAh4cH8uXLh8DAQMTGxmLcuHH47rvvsHbtWuh0Ouh0OoSHhyfpiknodvn9999RpUoVeHh4oFGjRrhx4wY2btyIcuXKwdPTE++//z4ePnxovK+/vz9CQkJMYqlcuTLGjRuXbJzJde8cOXIEOp0OFy5cAABcvHgRLVu2RJ48eZAjRw68/PLL2LBhQ4o/e1xcHIYMGYIiRYogR44cqFmzJsLDwwEAMTEx8PDwwMaNG03es3r1auTKlQsPHz5Mtltqw4YNKFOmDDw8PNCwYUNjbM/atWsXAgIC4OHhAT8/P/Tv3x+xsbEmn83EiRPRpUsX5MqVC0WLFsXChQtNrnHlyhW0b98eefPmRY4cOVCtWjXs37/f+PratWvx6quvwt3dHSVKlMD48ePx9OnTFD8LoqyIyQ2RA4qKikL79u3RpUsXnDx5EuHh4QgKCoJSCkOGDMF7772HZs2aISoqClFRUahdu3aK1xo3bhzmzp2LPXv24PLly3jvvfcQEhKC5cuXY/369di8eTPmzJlj05+nT58+iIuLw44dO3Ds2DFMmTIl1Sroffv2xd69e7FixQocPXoUbdq0QbNmzXD27Fl4enqiRYsWWL58ucl7li1bhrfffhvZs2dPcr3Lly8jKCgILVu2xJEjR9CtWzcMHz7c5Jzz58+jWbNmePfdd3H06FGsXLkSu3btQt++fU3Omz59OqpVq4bDhw/jo48+Qu/evXH69GkAUq27fv36iIyMxLp16/D3339j6NChMBgMAICdO3eiY8eOGDBgAE6cOIEFCxZg6dKl+OKLLyz6XIkclmYlO4nIZg4ePKgAqAsXLiT7enBwsGrVqpXJsYiICAVAHT58WCmVWDn6jz/+MJ4zadIkBUCdP3/eeKxnz56qadOmxv1ixYqpmTNnmly7UqVKauzYscZ9AGr16tUm97l7967x9cOHDysAKiIiQimlVIUKFdS4cePM+tkvXryonJ2dVWRkpMnxxo0bqxEjRiillFq9erXKmTOnio2NVUopFR0drdzd3dXGjRuT/SxGjBihypcvb3K9YcOGmcTdtWtX1aNHD5Nzdu7cqZycnNSjR4+Mn80HH3xgfN1gMChvb2/19ddfK6WUWrBggcqVK5e6fft2sj9b48aN1cSJE02O/fDDD6pQoUJmfTZEWQXH3BA5oEqVKqFx48aoUKECmjZtiiZNmqB169bIkydPmq9VsWJF47aPjw+yZ8+OEiVKmBw7cOCAVeJOSf/+/dG7d29s3rwZgYGBePfdd03ietaxY8eg1+tRpkwZk+NxcXHIly8fAKB58+ZwcXHBunXr0K5dO/zyyy/w9PREYGBgstc8efIkatasaXKsVq1aJvt///03jh49imXLlhmPKaVgMBgQERGBcuXKATD9PHU6HQoWLIgbN24AkO64KlWqIG/evMnG8ffff2P37t0mLTV6vR6PHz/Gw4cPk211IsqKmNwQOSBnZ2ds2bIFe/bsMXYbjRw5Evv370fx4sXTdC0XFxfjtk6nM9lPOJbQbQIATk5OUEqZnPPkyZMUr+/kJL3jz77n+fO7deuGpk2bGrvBJk2ahOnTp6Nfv35JrvfgwQM4Ozvj4MGDcHZ2NnktoSvL1dUVrVu3xvLly9GuXTssX74cbdu2RbZslv9JfPDgAXr27In+/fsnea1o0aLG7dQ+Pw8PjxfeY/z48QgKCkrymru7uyVhEzkkjrkhclA6nQ516tTB+PHjcfjwYbi6umL16tUA5Mtdr9fb5L4FChRAVFSUcT8mJgYRERGpng/A5D3JrS/j5+eHXr16ITQ0FB9//DEWLVqU7PWqVKkCvV6PGzduoFSpUiaPZ2dAdejQAZs2bcLx48exdetWdOjQIcUYy5Url6R1at++fSb7r776Kk6cOJHknqVKlYKrq2uK135WxYoVceTIEdy5cyfZ11999VWcPn062XskJIlExOSGyCHt378fEydOxF9//YVLly4hNDQUN2/eNHaN+Pv74+jRozh9+jRu3bqVastKWjVq1Ag//PADdu7ciWPHjiE4ODhJC8qzSpUqBT8/P4wbNw5nz57F+vXrMX36dJNzBg4ciN9//x0RERE4dOgQtm3bZvxZnlemTBl06NABHTt2RGhoKCIiInDgwAFMmjQJ69evN55Xr149FCxYEB06dEDx4sWTdDs9q1evXjh79iw++eQTnD59GsuXL8fSpUtNzhk2bBj27NmDvn374siRIzh79izWrl2bZEBxatq3b4+CBQvi7bffxu7du/Hvv//il19+wd69ewEAY8aMwffff4/x48fj+PHjOHnyJFasWIFRo0aZfQ+irIDJDZED8vT0xI4dO9C8eXOUKVMGo0aNwvTp0/HGG28AALp3746yZcuiWrVqKFCgAHbv3m21e48YMQL169dHixYt8Oabb+Ltt99GyZIlUzzfxcUFP/30E06dOoWKFStiypQpmDBhgsk5er0effr0Qbly5dCsWTOUKVMGX331VYrXXLJkCTp27IiPP/4YZcuWxdtvv40///zTpHtIp9Ohffv2+Pvvv1NttQGkW+mXX37BmjVrUKlSJcyfPx8TJ040OadixYrYvn07zpw5g4CAAFSpUgVjxoxB4cKFU732s1xdXbF582Z4e3ujefPmqFChAiZPnmxMDps2bYrffvsNmzdvRvXq1fHaa69h5syZKFasmNn3IMoKdOr5znEiIiKiTIwtN0RERORQmNwQERGRQ2FyQ0RERA6FyQ0RERE5FCY3RERE5FCY3BAREZFDYXJDREREDoXJDRERETkUJjdERETkUJjcEBERkUNhckNEREQOhckNEREROZT/A4L8ghxGsr2qAAAAAElFTkSuQmCC\n"
        },
        "metadata": {}
       }
      ]
     }
    },
    "3ba6bfd33f724b3984741282179047ca": {
     "model_module": "@jupyter-widgets/base",
     "model_name": "LayoutModel",
     "model_module_version": "1.2.0",
     "state": {
      "_model_module": "@jupyter-widgets/base",
      "_model_module_version": "1.2.0",
      "_model_name": "LayoutModel",
      "_view_count": null,
      "_view_module": "@jupyter-widgets/base",
      "_view_module_version": "1.2.0",
      "_view_name": "LayoutView",
      "align_content": null,
      "align_items": null,
      "align_self": null,
      "border": null,
      "bottom": null,
      "display": null,
      "flex": null,
      "flex_flow": null,
      "grid_area": null,
      "grid_auto_columns": null,
      "grid_auto_flow": null,
      "grid_auto_rows": null,
      "grid_column": null,
      "grid_gap": null,
      "grid_row": null,
      "grid_template_areas": null,
      "grid_template_columns": null,
      "grid_template_rows": null,
      "height": null,
      "justify_content": null,
      "justify_items": null,
      "left": null,
      "margin": null,
      "max_height": null,
      "max_width": null,
      "min_height": null,
      "min_width": null,
      "object_fit": null,
      "object_position": null,
      "order": null,
      "overflow": null,
      "overflow_x": null,
      "overflow_y": null,
      "padding": null,
      "right": null,
      "top": null,
      "visibility": null,
      "width": null
     }
    },
    "00fad3bfc9df43578c5e79fdab19434e": {
     "model_module": "@jupyter-widgets/base",
     "model_name": "LayoutModel",
     "model_module_version": "1.2.0",
     "state": {
      "_model_module": "@jupyter-widgets/base",
      "_model_module_version": "1.2.0",
      "_model_name": "LayoutModel",
      "_view_count": null,
      "_view_module": "@jupyter-widgets/base",
      "_view_module_version": "1.2.0",
      "_view_name": "LayoutView",
      "align_content": null,
      "align_items": null,
      "align_self": null,
      "border": null,
      "bottom": null,
      "display": null,
      "flex": null,
      "flex_flow": null,
      "grid_area": null,
      "grid_auto_columns": null,
      "grid_auto_flow": null,
      "grid_auto_rows": null,
      "grid_column": null,
      "grid_gap": null,
      "grid_row": null,
      "grid_template_areas": null,
      "grid_template_columns": null,
      "grid_template_rows": null,
      "height": null,
      "justify_content": null,
      "justify_items": null,
      "left": null,
      "margin": null,
      "max_height": null,
      "max_width": null,
      "min_height": null,
      "min_width": null,
      "object_fit": null,
      "object_position": null,
      "order": null,
      "overflow": null,
      "overflow_x": null,
      "overflow_y": null,
      "padding": null,
      "right": null,
      "top": null,
      "visibility": null,
      "width": null
     }
    },
    "d2b4847003404ace964347f50b1c9fca": {
     "model_module": "@jupyter-widgets/controls",
     "model_name": "SliderStyleModel",
     "model_module_version": "1.5.0",
     "state": {
      "_model_module": "@jupyter-widgets/controls",
      "_model_module_version": "1.5.0",
      "_model_name": "SliderStyleModel",
      "_view_count": null,
      "_view_module": "@jupyter-widgets/base",
      "_view_module_version": "1.2.0",
      "_view_name": "StyleView",
      "description_width": "",
      "handle_color": null
     }
    },
    "0d3161e18ae14ccaa8551963903b4f76": {
     "model_module": "@jupyter-widgets/base",
     "model_name": "LayoutModel",
     "model_module_version": "1.2.0",
     "state": {
      "_model_module": "@jupyter-widgets/base",
      "_model_module_version": "1.2.0",
      "_model_name": "LayoutModel",
      "_view_count": null,
      "_view_module": "@jupyter-widgets/base",
      "_view_module_version": "1.2.0",
      "_view_name": "LayoutView",
      "align_content": null,
      "align_items": null,
      "align_self": null,
      "border": null,
      "bottom": null,
      "display": null,
      "flex": null,
      "flex_flow": null,
      "grid_area": null,
      "grid_auto_columns": null,
      "grid_auto_flow": null,
      "grid_auto_rows": null,
      "grid_column": null,
      "grid_gap": null,
      "grid_row": null,
      "grid_template_areas": null,
      "grid_template_columns": null,
      "grid_template_rows": null,
      "height": null,
      "justify_content": null,
      "justify_items": null,
      "left": null,
      "margin": null,
      "max_height": null,
      "max_width": null,
      "min_height": null,
      "min_width": null,
      "object_fit": null,
      "object_position": null,
      "order": null,
      "overflow": null,
      "overflow_x": null,
      "overflow_y": null,
      "padding": null,
      "right": null,
      "top": null,
      "visibility": null,
      "width": null
     }
    },
    "6e6cb9a3fde54b17bfeb8abcf45d8927": {
     "model_module": "@jupyter-widgets/controls",
     "model_name": "SliderStyleModel",
     "model_module_version": "1.5.0",
     "state": {
      "_model_module": "@jupyter-widgets/controls",
      "_model_module_version": "1.5.0",
      "_model_name": "SliderStyleModel",
      "_view_count": null,
      "_view_module": "@jupyter-widgets/base",
      "_view_module_version": "1.2.0",
      "_view_name": "StyleView",
      "description_width": "",
      "handle_color": null
     }
    },
    "7e1a79c193ee49e5854b46283fa77af6": {
     "model_module": "@jupyter-widgets/base",
     "model_name": "LayoutModel",
     "model_module_version": "1.2.0",
     "state": {
      "_model_module": "@jupyter-widgets/base",
      "_model_module_version": "1.2.0",
      "_model_name": "LayoutModel",
      "_view_count": null,
      "_view_module": "@jupyter-widgets/base",
      "_view_module_version": "1.2.0",
      "_view_name": "LayoutView",
      "align_content": null,
      "align_items": null,
      "align_self": null,
      "border": null,
      "bottom": null,
      "display": null,
      "flex": null,
      "flex_flow": null,
      "grid_area": null,
      "grid_auto_columns": null,
      "grid_auto_flow": null,
      "grid_auto_rows": null,
      "grid_column": null,
      "grid_gap": null,
      "grid_row": null,
      "grid_template_areas": null,
      "grid_template_columns": null,
      "grid_template_rows": null,
      "height": null,
      "justify_content": null,
      "justify_items": null,
      "left": null,
      "margin": null,
      "max_height": null,
      "max_width": null,
      "min_height": null,
      "min_width": null,
      "object_fit": null,
      "object_position": null,
      "order": null,
      "overflow": null,
      "overflow_x": null,
      "overflow_y": null,
      "padding": null,
      "right": null,
      "top": null,
      "visibility": null,
      "width": null
     }
    }
   }
  }
 },
 "nbformat": 4,
 "nbformat_minor": 5
}
